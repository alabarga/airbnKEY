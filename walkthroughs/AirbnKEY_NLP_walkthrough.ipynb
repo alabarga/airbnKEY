{
 "cells": [
  {
   "cell_type": "markdown",
   "metadata": {},
   "source": [
    "# Using Natural Language Processing to Identify Latent Features\n",
    "\n",
    "Airbnb hosts often provide rich and detailed descriptions of their homes on their listing pages in the hopes that they can sway a visitor to book their property.\n",
    "\n",
    "Using Non-Negative Matrix Factorization, we will try to identify latent features from these authored descriptions that we can add as additional features to support our regression modeling efforts. "
   ]
  },
  {
   "cell_type": "code",
   "execution_count": 1,
   "metadata": {
    "collapsed": false
   },
   "outputs": [],
   "source": [
    "import pandas as pd\n",
    "import numpy as np\n",
    "from collections import defaultdict\n",
    "\n",
    "from sklearn.feature_extraction.text import CountVectorizer, TfidfVectorizer, ENGLISH_STOP_WORDS\n",
    "from sklearn.decomposition import NMF\n",
    "\n",
    "import matplotlib.pyplot as plt\n",
    "import json\n",
    "\n",
    "import nltk\n",
    "from nltk.tokenize import sent_tokenize, regexp\n",
    "from nltk.stem.porter import PorterStemmer\n",
    "from nltk.stem.snowball import SnowballStemmer\n",
    "from nltk.stem import WordNetLemmatizer\n",
    "from nltk import word_tokenize \n",
    "\n",
    "import src.airbnb_read_data_helper as read\n",
    "import src.airbnb_NLP_helper as nlp\n"
   ]
  },
  {
   "cell_type": "markdown",
   "metadata": {},
   "source": [
    "## Load detailed listing information"
   ]
  },
  {
   "cell_type": "code",
   "execution_count": 2,
   "metadata": {
    "collapsed": false
   },
   "outputs": [],
   "source": [
    "listing_details_raw_df = read.import_txtfile_as_df('data/airbnb_scraping/Seattle/Seattle_scraped_listing_info_20170317_COMBINED.txt')"
   ]
  },
  {
   "cell_type": "code",
   "execution_count": 3,
   "metadata": {
    "collapsed": false
   },
   "outputs": [
    {
     "name": "stderr",
     "output_type": "stream",
     "text": [
      "/Users/johnkim/anaconda2/lib/python2.7/site-packages/ipykernel/__main__.py:1: FutureWarning: convert_objects is deprecated.  Use the data-type specific converters pd.to_datetime, pd.to_timedelta and pd.to_numeric.\n",
      "  if __name__ == '__main__':\n"
     ]
    }
   ],
   "source": [
    "listing_details_df = listing_details_raw_df.convert_objects(convert_numeric=True)\n",
    "\n",
    "listing_details_df.drop('Save to Wish ListRoom TypeEntire home/aptProperty TypeAccommodates2Bedrooms$99 Barn 11', \n",
    "                        axis=1, inplace=True)"
   ]
  },
  {
   "cell_type": "markdown",
   "metadata": {},
   "source": [
    "## Load in scraped metadata"
   ]
  },
  {
   "cell_type": "code",
   "execution_count": 4,
   "metadata": {
    "collapsed": true
   },
   "outputs": [],
   "source": [
    "scraped_meta_raw_df, scraped_meta_json = read.import_json_as_df('data/airbnb_scraping/Seattle/comb_temp2')"
   ]
  },
  {
   "cell_type": "code",
   "execution_count": 5,
   "metadata": {
    "collapsed": false
   },
   "outputs": [],
   "source": [
    "scraped_meta_price_df = read.convert_json_price_to_df(scraped_meta_json)\n",
    "scraped_meta_desc_df = read.convert_json_desc_to_df(scraped_meta_json)\n",
    "scraped_meta_amen_df = read.convert_json_amenities_to_df(scraped_meta_json)\n",
    "scraped_meta_df = pd.concat([scraped_meta_price_df,scraped_meta_desc_df,scraped_meta_amen_df], axis=1)\n",
    "scraped_meta_df = scraped_meta_df.reset_index()\n",
    "scraped_meta_df = scraped_meta_df.rename(columns={'index':'prop_id'})"
   ]
  },
  {
   "cell_type": "code",
   "execution_count": 6,
   "metadata": {
    "collapsed": false
   },
   "outputs": [],
   "source": [
    "full_scraped_df = scraped_meta_df.merge(listing_details_df, how='inner', left_on=\"prop_id\", right_on=\"hosting_id\")\n",
    "\n",
    "full_scraped_df.space = full_scraped_df.space.str.lower().str.strip().str.replace(\"\\n\",\" \")\n",
    "full_scraped_df = full_scraped_df[~full_scraped_df.space.isnull()]\n",
    "full_scraped_df.space = full_scraped_df.space.str.encode(\"utf-8\")"
   ]
  },
  {
   "cell_type": "markdown",
   "metadata": {},
   "source": [
    "## Text Analysis"
   ]
  },
  {
   "cell_type": "markdown",
   "metadata": {},
   "source": [
    "Building the right stopword dictionary ensures that we get more signal than noise when conducting natural language processing.  \n",
    "\n",
    "This is a curated list of very common words that we do not want to be used in tf or tf-idf calculations. "
   ]
  },
  {
   "cell_type": "code",
   "execution_count": 7,
   "metadata": {
    "collapsed": true
   },
   "outputs": [],
   "source": [
    "airbnb_stopwords = [\n",
    "'and', 'the', 'to', 'a', 'in', 'of', 'with', 'is',  'on', 'you', 'this','our', 'has', 'are', 'for','your', 'out', 'there', 'will',\n",
    "'can', 'be',  'but', 'its', 're','which','here', 'or',  'we', 'it',  'an','from','by','my', 'have', 'at', 'as', 'just',\n",
    "'room','bedroom','bed', 'home','house','place','location', 'space', 'host', \n",
    "'seattle',\n",
    "'solo', 'adventurers', 'business', 'travelers', 'couples', \n",
    "'youll', 'love', 'because', 'www', 'airbnb', 'com', 'https'\n",
    "]"
   ]
  },
  {
   "cell_type": "markdown",
   "metadata": {},
   "source": [
    "## Analyzing Airbnb Descriptions - Term Frequency"
   ]
  },
  {
   "cell_type": "code",
   "execution_count": 8,
   "metadata": {
    "collapsed": false
   },
   "outputs": [],
   "source": [
    "tf = CountVectorizer(stop_words=airbnb_stopwords, \n",
    "                     max_features=10000, ngram_range=(2,3),\n",
    "                     #min_df=0.02, max_df=0.98,\n",
    "                     #tokenizer=tokenize_and_stem)\n",
    "                    )\n",
    "\n",
    "tf_matrix = tf.fit_transform(full_scraped_df.space)\n",
    "tf_vocab = np.array(tf.get_feature_names())\n",
    "tf_matrix_sum = np.sum(tf_matrix.toarray(),axis=0)\n",
    "sorted_ind = np.argsort(tf_matrix_sum)[::-1]"
   ]
  },
  {
   "cell_type": "code",
   "execution_count": 9,
   "metadata": {
    "collapsed": false
   },
   "outputs": [
    {
     "name": "stdout",
     "output_type": "stream",
     "text": [
      "Number of properties: 97\n",
      "Top term frequency based on price, 100 > price > 9999\n",
      "\n",
      "                          WORD, COUNT,   PCT\n",
      "---------------------------------------------\n",
      "                street parking,    15, 15.46%\n",
      "              private bathroom,    13, 13.40%\n",
      "                   living area,    13, 13.40%\n",
      "              walking distance,    12, 12.37%\n",
      "                    lake union,    12, 12.37%\n",
      "                  capitol hill,    11, 11.34%\n",
      "                    queen size,    11, 11.34%\n",
      "                  private bath,     9, 9.28%\n",
      "                kitchen living,     9, 9.28%\n",
      "                    queen anne,     9, 9.28%\n"
     ]
    }
   ],
   "source": [
    "nlp.get_top_term_frequency(tf=tf, df=full_scraped_df, column='space', \n",
    "                           by='price', lower_lim=100, upper_lim=9999, \n",
    "                           num_words=10)"
   ]
  },
  {
   "cell_type": "code",
   "execution_count": 10,
   "metadata": {
    "collapsed": false
   },
   "outputs": [
    {
     "name": "stdout",
     "output_type": "stream",
     "text": [
      "Number of properties: 321\n",
      "Top term frequency based on price, 50 > price > 75\n",
      "\n",
      "                          WORD, COUNT,   PCT\n",
      "---------------------------------------------\n",
      "                street parking,    32, 9.97%\n",
      "                    queen size,    31, 9.66%\n",
      "                   easy access,    31, 9.66%\n",
      "              private bathroom,    28, 8.72%\n",
      "                    light rail,    27, 8.41%\n",
      "                  washer dryer,    27, 8.41%\n",
      "                        do not,    26, 8.10%\n",
      "                  capitol hill,    25, 7.79%\n",
      "                 full bathroom,    23, 7.17%\n",
      "                    coffee tea,    23, 7.17%\n"
     ]
    }
   ],
   "source": [
    "nlp.get_top_term_frequency(tf=tf, df=full_scraped_df, column='space', \n",
    "                           by='price', lower_lim=50, upper_lim=75, \n",
    "                           num_words=10)"
   ]
  },
  {
   "cell_type": "code",
   "execution_count": 11,
   "metadata": {
    "collapsed": false
   },
   "outputs": [
    {
     "name": "stdout",
     "output_type": "stream",
     "text": [
      "Number of properties: 216\n",
      "Top term frequency based on price, 0 > price > 50\n",
      "\n",
      "                          WORD, COUNT,   PCT\n",
      "---------------------------------------------\n",
      "                    main floor,    23, 10.65%\n",
      "                street parking,    20, 9.26%\n",
      "                    coffee tea,    19, 8.80%\n",
      "              walking distance,    18, 8.33%\n",
      "                     small fan,    16, 7.41%\n",
      "                closet hangers,    16, 7.41%\n",
      "                    queen size,    14, 6.48%\n",
      "                  coffee maker,    14, 6.48%\n",
      "                        do not,    13, 6.02%\n",
      "                   please keep,    13, 6.02%\n"
     ]
    }
   ],
   "source": [
    "nlp.get_top_term_frequency(tf=tf, df=full_scraped_df, column='space', \n",
    "                           by='price', lower_lim=0, upper_lim=50, \n",
    "                           num_words=10)"
   ]
  },
  {
   "cell_type": "code",
   "execution_count": 12,
   "metadata": {
    "collapsed": false
   },
   "outputs": [
    {
     "name": "stdout",
     "output_type": "stream",
     "text": [
      "Number of properties: 192\n",
      "Top term frequency based on price, 75 > price > 100\n",
      "\n",
      "                          WORD, COUNT,   PCT\n",
      "---------------------------------------------\n",
      "                street parking,    27, 14.06%\n",
      "              private bathroom,    25, 13.02%\n",
      "                  washer dryer,    24, 12.50%\n",
      "                   puget sound,    21, 10.94%\n",
      "                  coffee maker,    19, 9.90%\n",
      "                   during stay,    17, 8.85%\n",
      "                    queen size,    17, 8.85%\n",
      "                      bus stop,    16, 8.33%\n",
      "                   minute walk,    16, 8.33%\n",
      "                        let me,    15, 7.81%\n"
     ]
    }
   ],
   "source": [
    "nlp.get_top_term_frequency(tf=tf, df=full_scraped_df, column='space', \n",
    "                           by='price', lower_lim=75, upper_lim=100, \n",
    "                           num_words=10)"
   ]
  },
  {
   "cell_type": "markdown",
   "metadata": {},
   "source": [
    "Based on term frequency alone, there doesn't seem to be a lot of insights to take away. All pricing tiers have similar word breakdowns. \n",
    "\n",
    "Let's look at topic modeling to get to deeper insights."
   ]
  },
  {
   "cell_type": "markdown",
   "metadata": {
    "collapsed": true
   },
   "source": [
    "# Topic Modeling"
   ]
  },
  {
   "cell_type": "markdown",
   "metadata": {},
   "source": [
    "### NMF Factorization with term-frequency"
   ]
  },
  {
   "cell_type": "code",
   "execution_count": 13,
   "metadata": {
    "collapsed": false
   },
   "outputs": [],
   "source": [
    "tf_NMF = CountVectorizer(stop_words=airbnb_stopwords, max_features=10000, ngram_range=(2,2), min_df=2)\n",
    "tf_NMF_matrix = tf_NMF.fit_transform(full_scraped_df.space)\n",
    "tf_NMF_vocab= np.array(tf_NMF.get_feature_names())"
   ]
  },
  {
   "cell_type": "code",
   "execution_count": 14,
   "metadata": {
    "collapsed": false
   },
   "outputs": [
    {
     "data": {
      "text/plain": [
       "NMF(alpha=0.0, beta=1, eta=0.1, init=None, l1_ratio=0.0, max_iter=200,\n",
       "  n_components=50, nls_max_iter=2000, random_state=None, shuffle=False,\n",
       "  solver='cd', sparseness=None, tol=0.0001, verbose=0)"
      ]
     },
     "execution_count": 14,
     "metadata": {},
     "output_type": "execute_result"
    }
   ],
   "source": [
    "nmf = NMF(n_components=50)\n",
    "nmf.fit(tf_NMF_matrix.toarray())"
   ]
  },
  {
   "cell_type": "code",
   "execution_count": 15,
   "metadata": {
    "collapsed": false
   },
   "outputs": [
    {
     "name": "stdout",
     "output_type": "stream",
     "text": [
      "RSS = 126.80\n"
     ]
    }
   ],
   "source": [
    "tf_W = nmf.transform(tf_NMF_matrix.toarray())\n",
    "tf_H = nmf.components_\n",
    "print 'RSS = %.2f' % nmf.reconstruction_err_"
   ]
  },
  {
   "cell_type": "code",
   "execution_count": 16,
   "metadata": {
    "collapsed": false
   },
   "outputs": [
    {
     "data": {
      "text/plain": [
       "((826, 50), (50, 8426))"
      ]
     },
     "execution_count": 16,
     "metadata": {},
     "output_type": "execute_result"
    }
   ],
   "source": [
    "tf_W.shape, tf_H.shape"
   ]
  },
  {
   "cell_type": "code",
   "execution_count": 17,
   "metadata": {
    "collapsed": false
   },
   "outputs": [],
   "source": [
    "tf_W = pd.DataFrame(tf_W,index=full_scraped_df.space)\n",
    "tf_H = pd.DataFrame(tf_H,columns=tf_NMF_vocab)"
   ]
  },
  {
   "cell_type": "markdown",
   "metadata": {},
   "source": [
    "#### Printing top words per topic"
   ]
  },
  {
   "cell_type": "code",
   "execution_count": 18,
   "metadata": {
    "collapsed": false
   },
   "outputs": [
    {
     "name": "stdout",
     "output_type": "stream",
     "text": [
      "0 if need, me know, let me, would like, any time, block away\n",
      "1 instruction please, do not, parking spot, etc please, please do, please read\n",
      "2 feel free, guests rooms, street parking, master bathroom, guest rooms, free ask\n",
      "3 hot tub, garden guesthouse, fully equipped, private garden, 15 min, jacuzzi hot\n",
      "4 full sized, 10 years, good fit, free standing, guests use, walking distance\n",
      "5 shared bathrooms, get up, before booking, meant sleeping, steep ladder, want sure\n",
      "6 deck view, view downtown, 3rd fl, eat bar, 11 am, full bath\n",
      "7 lots fun, feel free, arts district, easy access, if need, free ask\n",
      "8 clean sheets, extra blankets, best part, part about, people looking, checking living\n",
      "9 full kitchen, parking available, fully furnished, fully stocked, if looking, rooms available\n",
      "10 easy access, shared bath, across hall, bath across, access downtown, bus lines\n",
      "11 minute walk, if desired, one block, bus lines, use kitchen, ballard locks\n",
      "12 lake union, living area, kitchen living, walking distance, dining area, bathroom kitchen\n",
      "13 back yard, blocks away, spacious back, library cd, cd collection, few blocks\n",
      "14 bamboo flooring, main floor, guests enjoy, street parking, coffee tea, flat screen\n",
      "15 do not, capitol hill, westlake station, volunteer park, so please, check time\n",
      "16 brand new, if need, 2nd floor, feel free, master suite, high speed\n",
      "17 if she, minutes south, walking distance, within walking, high speed, speed internet\n",
      "18 small fan, that share, rooms that, closet hangers, please keep, moisture buildup\n",
      "19 try some, puget sound, pick up, emp museum, 10 minutes, that include\n",
      "20 mini refrigerator, coffee maker, does not, other bathroom, screen tv, flat screen\n",
      "21 memory foam, walking distance, foam mattress, coffee tea, within walking, fresh towels\n",
      "22 seatac airport, private entrance, late night, full size, back yard, 10 minutes\n",
      "23 blocks away, 20 minutes, minutes downtown, also available, within walking, downtown 20\n",
      "24 seed milk, if need, year round, bring own, so please, self sufficient\n",
      "25 their own, coffee maker, please note, note that, does not, do not\n",
      "26 living area, guest use, apartment building, shared apartment, full sized, extended stay\n",
      "27 capitol hill, public transportation, all guests, staying us, minute walk, bus ride\n",
      "28 provided all, feel free, look forward, hot tub, that offer, serene setting\n",
      "29 queen anne, minute walk, walking distance, bus lines, anne hill, top queen\n",
      "30 well equipped, hot plate, includes small, cutting boards, longer term, toast coffee\n",
      "31 walking distance, private bathroom, within walking, gilman trail, burke gilman, no smoking\n",
      "32 screen tv, first floor, flat screen, 15 minute, alki beach, if need\n",
      "33 cool summer, double closet, winter cool, fruit trees, apple orchard, bursting fresh\n",
      "34 public transportation, less than, one bus, walking distance, kitchen living, light rail\n",
      "35 lake union, woodland park, 10 15, green lake, burke gilman, park zoo\n",
      "36 let me, convention center, me know, during stay, so if, half block\n",
      "37 kelly belly, fire pit, heart city, guests during, modern comforts, like away\n",
      "38 light rail, blocks away, rail station, minutes away, mini fridge, lake washington\n",
      "39 puget sound, views puget, discovery park, panoramic views, olympic mountain, mountain range\n",
      "40 full size, capitol hill, university washington, basement that, all amenities, queen size\n",
      "41 queen anne, minute walk, university washington, bus stop, coffee shops, during stay\n",
      "42 second floor, first floor, washer dryer, kitchenette bathroom, free use, under sink\n",
      "43 minutes away, nearby areas, areas quiet, us if, coffee tea, 20 minutes\n",
      "44 let me, me know, three rooms, please let, know if, also provide\n",
      "45 street parking, off street, free street, parking available, wireless internet, washer dryer\n",
      "46 min drive, 15 minutes, lincoln park, lounge chairs, westwood village, 10 min\n",
      "47 capitol hill, international district, first hill, located between, hill international, staying one\n",
      "48 main floor, private suite, five blocks, blocks greenlake, other adventures, greenlake amp\n",
      "49 flat screen, tv all, screen tv, available guests, morning coffee, large flat\n"
     ]
    }
   ],
   "source": [
    "for row in xrange(tf_H.shape[0]):\n",
    "    print row, ', '.join(list(tf_H.iloc[row].sort_values(ascending=False).index[:6]))\n",
    "    #print (list(H.iloc[row].sort_values(ascending=False)[:10]))"
   ]
  },
  {
   "cell_type": "code",
   "execution_count": 19,
   "metadata": {
    "collapsed": false
   },
   "outputs": [
    {
     "name": "stdout",
     "output_type": "stream",
     "text": [
      "Number of properties: 321\n",
      "Top term frequency based on price, 50 > price > 75\n",
      "\n",
      "                          WORD, COUNT,   PCT\n",
      "---------------------------------------------\n",
      "                street parking,    32, 9.97%\n",
      "                    queen size,    31, 9.66%\n",
      "                   easy access,    31, 9.66%\n",
      "              private bathroom,    28, 8.72%\n",
      "                    light rail,    27, 8.41%\n",
      "                  washer dryer,    27, 8.41%\n",
      "                        do not,    26, 8.10%\n",
      "                  capitol hill,    25, 7.79%\n",
      "                 full bathroom,    23, 7.17%\n",
      "                    coffee tea,    23, 7.17%\n"
     ]
    }
   ],
   "source": [
    "nlp.get_top_term_frequency(tf=tf, df=full_scraped_df, column='space', \n",
    "                           by='price', lower_lim=50, upper_lim=75, \n",
    "                           num_words=10)"
   ]
  },
  {
   "cell_type": "markdown",
   "metadata": {},
   "source": [
    "Looking through the NMF topic list above, there indeed a few noteworthy features that have floated to the top.\n",
    "\n",
    "- Topic 6 seems to be about scenic views. \n",
    "- Topic 3 seems to highlight luxurious features, such as hot tubs, decks, and gardens.\n",
    "- Topic 21 seems to highlight comfort features. \n",
    "- Topic 49 seems to be about televisions.\n",
    "\n",
    "Let's see the weights of each of these topics for different properties. Perhaps the higher priced properties exhibit higher weights for luxurious features and views? "
   ]
  },
  {
   "cell_type": "markdown",
   "metadata": {},
   "source": [
    "**What are the top topics for properties > 100?**"
   ]
  },
  {
   "cell_type": "code",
   "execution_count": 20,
   "metadata": {
    "collapsed": false
   },
   "outputs": [
    {
     "name": "stdout",
     "output_type": "stream",
     "text": [
      "n =  80\n",
      "   TOPIC,    WT, SUMWT, WORDS\n",
      "       6, 0.109, 0.109, deck view, view downtown, 3rd fl, eat bar, 11 am\n",
      "      12, 0.057, 0.166, lake union, living area, kitchen living, walking distance, dining area\n",
      "      45, 0.051, 0.217, street parking, off street, free street, parking available, wireless internet\n",
      "       3, 0.046, 0.263, hot tub, garden guesthouse, fully equipped, private garden, 15 min\n",
      "       2, 0.042, 0.305, feel free, guests rooms, street parking, master bathroom, guest rooms\n",
      "      40, 0.041, 0.346, full size, capitol hill, university washington, basement that, all amenities\n",
      "      32, 0.037, 0.383, screen tv, first floor, flat screen, 15 minute, alki beach\n",
      "      42, 0.031, 0.414, second floor, first floor, washer dryer, kitchenette bathroom, free use\n",
      "      38, 0.024, 0.439, light rail, blocks away, rail station, minutes away, mini fridge\n",
      "      29, 0.019, 0.457, queen anne, minute walk, walking distance, bus lines, anne hill\n",
      "      48, 0.018, 0.475, main floor, private suite, five blocks, blocks greenlake, other adventures\n",
      "      46, 0.014, 0.489, min drive, 15 minutes, lincoln park, lounge chairs, westwood village\n",
      "      47, 0.014, 0.502, capitol hill, international district, first hill, located between, hill international\n",
      "      35, 0.012, 0.514, lake union, woodland park, 10 15, green lake, burke gilman\n",
      "      15, 0.010, 0.525, do not, capitol hill, westlake station, volunteer park, so please\n",
      "      39, 0.010, 0.535, puget sound, views puget, discovery park, panoramic views, olympic mountain\n",
      "      25, 0.010, 0.545, their own, coffee maker, please note, note that, does not\n",
      "      22, 0.009, 0.554, seatac airport, private entrance, late night, full size, back yard\n",
      "      43, 0.008, 0.562, minutes away, nearby areas, areas quiet, us if, coffee tea\n",
      "      31, 0.008, 0.570, walking distance, private bathroom, within walking, gilman trail, burke gilman\n",
      "      36, 0.007, 0.577, let me, convention center, me know, during stay, so if\n",
      "      28, 0.007, 0.584, provided all, feel free, look forward, hot tub, that offer\n",
      "      27, 0.007, 0.591, capitol hill, public transportation, all guests, staying us, minute walk\n",
      "      26, 0.007, 0.597, living area, guest use, apartment building, shared apartment, full sized\n",
      "      44, 0.006, 0.604, let me, me know, three rooms, please let, know if\n",
      "      34, 0.006, 0.610, public transportation, less than, one bus, walking distance, kitchen living\n",
      "      21, 0.006, 0.616, memory foam, walking distance, foam mattress, coffee tea, within walking\n",
      "      23, 0.006, 0.621, blocks away, 20 minutes, minutes downtown, also available, within walking\n",
      "      20, 0.005, 0.627, mini refrigerator, coffee maker, does not, other bathroom, screen tv\n",
      "      13, 0.005, 0.632, back yard, blocks away, spacious back, library cd, cd collection\n",
      "      41, 0.005, 0.637, queen anne, minute walk, university washington, bus stop, coffee shops\n",
      "      16, 0.004, 0.641, brand new, if need, 2nd floor, feel free, master suite\n",
      "       7, 0.004, 0.645, lots fun, feel free, arts district, easy access, if need\n",
      "      10, 0.004, 0.649, easy access, shared bath, across hall, bath across, access downtown\n",
      "       4, 0.004, 0.653, full sized, 10 years, good fit, free standing, guests use\n",
      "      14, 0.004, 0.657, bamboo flooring, main floor, guests enjoy, street parking, coffee tea\n",
      "       9, 0.004, 0.661, full kitchen, parking available, fully furnished, fully stocked, if looking\n",
      "      49, 0.004, 0.664, flat screen, tv all, screen tv, available guests, morning coffee\n",
      "      19, 0.004, 0.668, try some, puget sound, pick up, emp museum, 10 minutes\n",
      "       1, 0.003, 0.671, instruction please, do not, parking spot, etc please, please do\n",
      "       5, 0.003, 0.674, shared bathrooms, get up, before booking, meant sleeping, steep ladder\n",
      "      33, 0.003, 0.676, cool summer, double closet, winter cool, fruit trees, apple orchard\n",
      "      11, 0.003, 0.679, minute walk, if desired, one block, bus lines, use kitchen\n",
      "      37, 0.002, 0.681, kelly belly, fire pit, heart city, guests during, modern comforts\n",
      "       8, 0.002, 0.683, clean sheets, extra blankets, best part, part about, people looking\n",
      "      17, 0.002, 0.685, if she, minutes south, walking distance, within walking, high speed\n",
      "      18, 0.002, 0.687, small fan, that share, rooms that, closet hangers, please keep\n",
      "      30, 0.001, 0.688, well equipped, hot plate, includes small, cutting boards, longer term\n",
      "       0, 0.001, 0.689, if need, me know, let me, would like, any time\n",
      "      24, 0.001, 0.689, seed milk, if need, year round, bring own, so please\n"
     ]
    }
   ],
   "source": [
    "nlp.get_topic_weights_prop_range(full_scraped_df, 'price', tf_W, tf_H, 100, 9999)"
   ]
  },
  {
   "cell_type": "markdown",
   "metadata": {},
   "source": [
    "**What are the top topics for properties with 50 < price < 100?**"
   ]
  },
  {
   "cell_type": "code",
   "execution_count": 21,
   "metadata": {
    "collapsed": false
   },
   "outputs": [
    {
     "name": "stdout",
     "output_type": "stream",
     "text": [
      "n =  467\n",
      "   TOPIC,    WT, SUMWT, WORDS\n",
      "      42, 0.040, 0.040, second floor, first floor, washer dryer, kitchenette bathroom, free use\n",
      "      45, 0.039, 0.079, street parking, off street, free street, parking available, wireless internet\n",
      "      38, 0.025, 0.104, light rail, blocks away, rail station, minutes away, mini fridge\n",
      "      46, 0.022, 0.126, min drive, 15 minutes, lincoln park, lounge chairs, westwood village\n",
      "       9, 0.022, 0.148, full kitchen, parking available, fully furnished, fully stocked, if looking\n",
      "      48, 0.022, 0.170, main floor, private suite, five blocks, blocks greenlake, other adventures\n",
      "      10, 0.022, 0.192, easy access, shared bath, across hall, bath across, access downtown\n",
      "      39, 0.020, 0.212, puget sound, views puget, discovery park, panoramic views, olympic mountain\n",
      "      21, 0.020, 0.232, memory foam, walking distance, foam mattress, coffee tea, within walking\n",
      "      26, 0.019, 0.251, living area, guest use, apartment building, shared apartment, full sized\n",
      "       7, 0.019, 0.270, lots fun, feel free, arts district, easy access, if need\n",
      "       2, 0.018, 0.288, feel free, guests rooms, street parking, master bathroom, guest rooms\n",
      "       5, 0.017, 0.305, shared bathrooms, get up, before booking, meant sleeping, steep ladder\n",
      "       1, 0.016, 0.321, instruction please, do not, parking spot, etc please, please do\n",
      "      28, 0.016, 0.337, provided all, feel free, look forward, hot tub, that offer\n",
      "      22, 0.016, 0.353, seatac airport, private entrance, late night, full size, back yard\n",
      "      31, 0.016, 0.369, walking distance, private bathroom, within walking, gilman trail, burke gilman\n",
      "      44, 0.015, 0.384, let me, me know, three rooms, please let, know if\n",
      "      35, 0.015, 0.398, lake union, woodland park, 10 15, green lake, burke gilman\n",
      "      15, 0.015, 0.413, do not, capitol hill, westlake station, volunteer park, so please\n",
      "      43, 0.015, 0.428, minutes away, nearby areas, areas quiet, us if, coffee tea\n",
      "      19, 0.014, 0.442, try some, puget sound, pick up, emp museum, 10 minutes\n",
      "      30, 0.014, 0.457, well equipped, hot plate, includes small, cutting boards, longer term\n",
      "      29, 0.014, 0.470, queen anne, minute walk, walking distance, bus lines, anne hill\n",
      "      36, 0.013, 0.483, let me, convention center, me know, during stay, so if\n",
      "      41, 0.013, 0.496, queen anne, minute walk, university washington, bus stop, coffee shops\n",
      "      49, 0.013, 0.509, flat screen, tv all, screen tv, available guests, morning coffee\n",
      "      40, 0.013, 0.522, full size, capitol hill, university washington, basement that, all amenities\n",
      "      47, 0.011, 0.533, capitol hill, international district, first hill, located between, hill international\n",
      "       0, 0.011, 0.545, if need, me know, let me, would like, any time\n",
      "      13, 0.010, 0.555, back yard, blocks away, spacious back, library cd, cd collection\n",
      "      25, 0.010, 0.565, their own, coffee maker, please note, note that, does not\n",
      "      16, 0.009, 0.574, brand new, if need, 2nd floor, feel free, master suite\n",
      "      18, 0.009, 0.582, small fan, that share, rooms that, closet hangers, please keep\n",
      "      20, 0.008, 0.590, mini refrigerator, coffee maker, does not, other bathroom, screen tv\n",
      "      34, 0.008, 0.598, public transportation, less than, one bus, walking distance, kitchen living\n",
      "      23, 0.006, 0.604, blocks away, 20 minutes, minutes downtown, also available, within walking\n",
      "      27, 0.006, 0.610, capitol hill, public transportation, all guests, staying us, minute walk\n",
      "      14, 0.006, 0.616, bamboo flooring, main floor, guests enjoy, street parking, coffee tea\n",
      "      37, 0.005, 0.622, kelly belly, fire pit, heart city, guests during, modern comforts\n",
      "      12, 0.005, 0.627, lake union, living area, kitchen living, walking distance, dining area\n",
      "       6, 0.004, 0.631, deck view, view downtown, 3rd fl, eat bar, 11 am\n",
      "       3, 0.004, 0.635, hot tub, garden guesthouse, fully equipped, private garden, 15 min\n",
      "      32, 0.004, 0.639, screen tv, first floor, flat screen, 15 minute, alki beach\n",
      "      11, 0.003, 0.642, minute walk, if desired, one block, bus lines, use kitchen\n",
      "      33, 0.003, 0.646, cool summer, double closet, winter cool, fruit trees, apple orchard\n",
      "       8, 0.003, 0.649, clean sheets, extra blankets, best part, part about, people looking\n",
      "      17, 0.003, 0.651, if she, minutes south, walking distance, within walking, high speed\n",
      "       4, 0.002, 0.653, full sized, 10 years, good fit, free standing, guests use\n",
      "      24, 0.002, 0.655, seed milk, if need, year round, bring own, so please\n"
     ]
    }
   ],
   "source": [
    "nlp.get_topic_weights_prop_range(full_scraped_df, 'price', tf_W, tf_H, 50, 100)"
   ]
  },
  {
   "cell_type": "markdown",
   "metadata": {},
   "source": [
    "**What are the top topics for properties with price < 50?**"
   ]
  },
  {
   "cell_type": "code",
   "execution_count": 22,
   "metadata": {
    "collapsed": false
   },
   "outputs": [
    {
     "name": "stdout",
     "output_type": "stream",
     "text": [
      "n =  216\n",
      "   TOPIC,    WT, SUMWT, WORDS\n",
      "       8, 0.047, 0.047, clean sheets, extra blankets, best part, part about, people looking\n",
      "      18, 0.042, 0.089, small fan, that share, rooms that, closet hangers, please keep\n",
      "       1, 0.042, 0.131, instruction please, do not, parking spot, etc please, please do\n",
      "      16, 0.032, 0.162, brand new, if need, 2nd floor, feel free, master suite\n",
      "      20, 0.031, 0.193, mini refrigerator, coffee maker, does not, other bathroom, screen tv\n",
      "      44, 0.030, 0.223, let me, me know, three rooms, please let, know if\n",
      "      11, 0.027, 0.250, minute walk, if desired, one block, bus lines, use kitchen\n",
      "      24, 0.025, 0.275, seed milk, if need, year round, bring own, so please\n",
      "      33, 0.022, 0.297, cool summer, double closet, winter cool, fruit trees, apple orchard\n",
      "       3, 0.019, 0.316, hot tub, garden guesthouse, fully equipped, private garden, 15 min\n",
      "      34, 0.019, 0.335, public transportation, less than, one bus, walking distance, kitchen living\n",
      "      17, 0.019, 0.354, if she, minutes south, walking distance, within walking, high speed\n",
      "      13, 0.018, 0.372, back yard, blocks away, spacious back, library cd, cd collection\n",
      "      45, 0.018, 0.390, street parking, off street, free street, parking available, wireless internet\n",
      "      25, 0.017, 0.406, their own, coffee maker, please note, note that, does not\n",
      "      14, 0.015, 0.421, bamboo flooring, main floor, guests enjoy, street parking, coffee tea\n",
      "      47, 0.014, 0.435, capitol hill, international district, first hill, located between, hill international\n",
      "      48, 0.014, 0.449, main floor, private suite, five blocks, blocks greenlake, other adventures\n",
      "      42, 0.013, 0.461, second floor, first floor, washer dryer, kitchenette bathroom, free use\n",
      "      38, 0.012, 0.473, light rail, blocks away, rail station, minutes away, mini fridge\n",
      "       9, 0.011, 0.484, full kitchen, parking available, fully furnished, fully stocked, if looking\n",
      "      46, 0.010, 0.494, min drive, 15 minutes, lincoln park, lounge chairs, westwood village\n",
      "      29, 0.010, 0.505, queen anne, minute walk, walking distance, bus lines, anne hill\n",
      "      37, 0.009, 0.514, kelly belly, fire pit, heart city, guests during, modern comforts\n",
      "      39, 0.008, 0.522, puget sound, views puget, discovery park, panoramic views, olympic mountain\n",
      "      21, 0.007, 0.529, memory foam, walking distance, foam mattress, coffee tea, within walking\n",
      "      22, 0.006, 0.535, seatac airport, private entrance, late night, full size, back yard\n",
      "      40, 0.006, 0.541, full size, capitol hill, university washington, basement that, all amenities\n",
      "      31, 0.006, 0.547, walking distance, private bathroom, within walking, gilman trail, burke gilman\n",
      "      12, 0.006, 0.552, lake union, living area, kitchen living, walking distance, dining area\n",
      "      26, 0.005, 0.558, living area, guest use, apartment building, shared apartment, full sized\n",
      "      43, 0.005, 0.563, minutes away, nearby areas, areas quiet, us if, coffee tea\n",
      "      36, 0.005, 0.568, let me, convention center, me know, during stay, so if\n",
      "      35, 0.004, 0.573, lake union, woodland park, 10 15, green lake, burke gilman\n",
      "       4, 0.004, 0.577, full sized, 10 years, good fit, free standing, guests use\n",
      "      49, 0.004, 0.581, flat screen, tv all, screen tv, available guests, morning coffee\n",
      "       2, 0.004, 0.585, feel free, guests rooms, street parking, master bathroom, guest rooms\n",
      "       7, 0.004, 0.588, lots fun, feel free, arts district, easy access, if need\n",
      "      27, 0.003, 0.592, capitol hill, public transportation, all guests, staying us, minute walk\n",
      "      15, 0.003, 0.595, do not, capitol hill, westlake station, volunteer park, so please\n",
      "      28, 0.003, 0.598, provided all, feel free, look forward, hot tub, that offer\n",
      "      41, 0.002, 0.600, queen anne, minute walk, university washington, bus stop, coffee shops\n",
      "       5, 0.002, 0.603, shared bathrooms, get up, before booking, meant sleeping, steep ladder\n",
      "      32, 0.002, 0.605, screen tv, first floor, flat screen, 15 minute, alki beach\n",
      "      10, 0.002, 0.607, easy access, shared bath, across hall, bath across, access downtown\n",
      "       6, 0.002, 0.609, deck view, view downtown, 3rd fl, eat bar, 11 am\n",
      "      19, 0.002, 0.611, try some, puget sound, pick up, emp museum, 10 minutes\n",
      "      23, 0.001, 0.613, blocks away, 20 minutes, minutes downtown, also available, within walking\n",
      "       0, 0.001, 0.613, if need, me know, let me, would like, any time\n",
      "      30, 0.000, 0.614, well equipped, hot plate, includes small, cutting boards, longer term\n"
     ]
    }
   ],
   "source": [
    "nlp.get_topic_weights_prop_range(full_scraped_df, 'price', tf_W, tf_H, 0, 50)"
   ]
  },
  {
   "cell_type": "markdown",
   "metadata": {
    "collapsed": true
   },
   "source": [
    "## NMF with tfidf"
   ]
  },
  {
   "cell_type": "code",
   "execution_count": 23,
   "metadata": {
    "collapsed": false
   },
   "outputs": [],
   "source": [
    "tfidf_NMF = TfidfVectorizer(stop_words=airbnb_stopwords, max_features=10000, ngram_range=(2,3), min_df=2)\n",
    "tfidf_NMF_matrix = tfidf_NMF.fit_transform(full_scraped_df.space)\n",
    "tfidf_NMF_vocab= np.array(tfidf_NMF.get_feature_names())"
   ]
  },
  {
   "cell_type": "code",
   "execution_count": 24,
   "metadata": {
    "collapsed": false
   },
   "outputs": [
    {
     "data": {
      "text/plain": [
       "NMF(alpha=0.0, beta=1, eta=0.1, init=None, l1_ratio=0.0, max_iter=200,\n",
       "  n_components=50, nls_max_iter=2000, random_state=None, shuffle=False,\n",
       "  solver='cd', sparseness=None, tol=0.0001, verbose=0)"
      ]
     },
     "execution_count": 24,
     "metadata": {},
     "output_type": "execute_result"
    }
   ],
   "source": [
    "nmf_tfidf = NMF(n_components=50)\n",
    "nmf_tfidf.fit(tfidf_NMF_matrix.toarray())"
   ]
  },
  {
   "cell_type": "code",
   "execution_count": 25,
   "metadata": {
    "collapsed": false
   },
   "outputs": [
    {
     "name": "stdout",
     "output_type": "stream",
     "text": [
      "RSS = 25.66\n"
     ]
    }
   ],
   "source": [
    "tfidf_W = nmf_tfidf.transform(tfidf_NMF_matrix.toarray())\n",
    "tfidf_H = nmf_tfidf.components_\n",
    "print 'RSS = %.2f' % nmf_tfidf.reconstruction_err_"
   ]
  },
  {
   "cell_type": "code",
   "execution_count": 26,
   "metadata": {
    "collapsed": false
   },
   "outputs": [],
   "source": [
    "tfidf_W = pd.DataFrame(tfidf_W,index=full_scraped_df.space)\n",
    "tfidf_H = pd.DataFrame(tfidf_H,columns=tfidf_NMF_vocab)"
   ]
  },
  {
   "cell_type": "markdown",
   "metadata": {},
   "source": [
    "#### Printing top words per topic"
   ]
  },
  {
   "cell_type": "code",
   "execution_count": 27,
   "metadata": {
    "collapsed": false,
    "scrolled": false
   },
   "outputs": [
    {
     "name": "stdout",
     "output_type": "stream",
     "text": [
      "Topic 0 : shampoo conditioner, hair dryer, large closet, conditioner body\n",
      "Topic 1 : share bathrooms please, bathrooms guest, please open window, that share bathrooms\n",
      "Topic 2 : instruction please, etc please do, please do not, parking spot\n",
      "Topic 3 : currently not, perfect spot, library plenty parking, stations freeway supermarkets\n",
      "Topic 4 : easy access, shared bath, bath across hall, shared bath across\n",
      "Topic 5 : paint new, bedrooms bathrooms brand, new furnace, drinking water machine\n",
      "Topic 6 : walking distance, within walking distance, within walking, stores within\n",
      "Topic 7 : living area towels, stairs upon, located same, hallway booked\n",
      "Topic 8 : three rooms, may get, private also provide, wish book all\n",
      "Topic 9 : clean sheets, part about, best part about, best part\n",
      "Topic 10 : view downtown, deck view, deck view downtown, eat bar\n",
      "Topic 11 : street parking, off street, off street parking, street parking available\n",
      "Topic 12 : convenient transportation, convenient transportation 舒适家位于郊外西雅图市中心和靠近交通便利的, downtown near convenient, outside downtown near\n",
      "Topic 13 : wireless internet, body wash provided, wash provided, machine washer\n",
      "Topic 14 : ll see, wide range, person go encourages, like knives cutting\n",
      "Topic 15 : mini fridge, mini fridge microwave, fridge microwave, coffee maker\n",
      "Topic 16 : cool summer, winter cool summer, winter cool, double closet\n",
      "Topic 17 : feel free, free ask, feel free ask, master bathroom\n",
      "Topic 18 : memory foam, memory foam mattress, foam mattress, new memory\n",
      "Topic 19 : capitol hill, hill downtown, capitol hill downtown, one block\n",
      "Topic 20 : natural light, lots natural light, lots natural, west facing\n",
      "Topic 21 : small fan, fan open, also turn, mind please\n",
      "Topic 22 : flat screen, screen tv, flat screen tv, relaxing stay\n",
      "Topic 23 : first floor, second floor, floor features, floor three\n",
      "Topic 24 : full bath, lots street, lots street parking, top floor\n",
      "Topic 25 : university washington, downtown university, downtown university washington, green lake\n",
      "Topic 26 : would like, let me, let me know, me know\n",
      "Topic 27 : queen anne, minute walk, queen anne neighborhood, anne neighborhood\n",
      "Topic 28 : queen size, new queen, new queen size, brand new\n",
      "Topic 29 : en suite, bathroom stocked body, wash shampoo conditioner, wash shampoo\n",
      "Topic 30 : high speed internet, speed internet, high speed, cable tv\n",
      "Topic 31 : private bathroom, washer dryer, bathroom queen, private bathroom queen\n",
      "Topic 32 : own private, well lit, private entrance, own private entrance\n",
      "Topic 33 : light rail, lake washington, easy access, access city\n",
      "Topic 34 : looking stay, during day, time town, prepare meals sleep\n",
      "Topic 35 : key less, steps away, keurig coffee maker, keurig coffee\n",
      "Topic 36 : main floor, floor guests, two bedrooms, bedrooms main\n",
      "Topic 37 : kitchen living, bathroom kitchen, bathroom kitchen living, rented guests bathroom\n",
      "Topic 38 : blocks away, few blocks away, few blocks, back yard\n",
      "Topic 39 : front door, main level, cozy comfortable, clean cozy comfortable\n",
      "Topic 40 : well maintained, whole food, welcome guests tea, character located montlake\n",
      "Topic 41 : available upon, available upon request, quiet safe, upon request\n",
      "Topic 42 : puget sound, olympic mountains, views puget sound, views puget\n",
      "Topic 43 : miles downtown, south center mall, south center, center mall\n",
      "Topic 44 : full size, study desk, medium sized, sized 10\n",
      "Topic 45 : located top, new carpet, lake washington, townhome located\n",
      "Topic 46 : safety stay, commute town, easy commute town, easy commute\n",
      "Topic 47 : international district, hill international, capitol hill international, hill international district\n",
      "Topic 48 : owner lives, wi fi, light view, door lock\n",
      "Topic 49 : separate entrance, access separate entrance, access separate, upstairs emergency needs\n"
     ]
    }
   ],
   "source": [
    "for row in xrange(tfidf_H.shape[0]):\n",
    "    print \"Topic\", row, \":\", ', '.join(list(tfidf_H.iloc[row].sort_values(ascending=False).index[:4]))\n",
    "    #print (list(H.iloc[row].sort_values(ascending=False)[:10]))"
   ]
  },
  {
   "cell_type": "markdown",
   "metadata": {},
   "source": [
    "**What are the top topics for properties > 100?**"
   ]
  },
  {
   "cell_type": "code",
   "execution_count": 28,
   "metadata": {
    "collapsed": false
   },
   "outputs": [
    {
     "name": "stdout",
     "output_type": "stream",
     "text": [
      "n =  80\n",
      "   TOPIC,    WT, SUMWT, WORDS\n",
      "      31, 0.015, 0.015, private bathroom, washer dryer, bathroom queen, private bathroom queen\n",
      "      10, 0.014, 0.029, view downtown, deck view, deck view downtown, eat bar\n",
      "      27, 0.010, 0.038, queen anne, minute walk, queen anne neighborhood, anne neighborhood\n",
      "      32, 0.009, 0.047, own private, well lit, private entrance, own private entrance\n",
      "      17, 0.008, 0.055, feel free, free ask, feel free ask, master bathroom\n",
      "      19, 0.007, 0.062, capitol hill, hill downtown, capitol hill downtown, one block\n",
      "      20, 0.007, 0.069, natural light, lots natural light, lots natural, west facing\n",
      "       0, 0.006, 0.076, shampoo conditioner, hair dryer, large closet, conditioner body\n",
      "      38, 0.006, 0.081, blocks away, few blocks away, few blocks, back yard\n",
      "      39, 0.005, 0.087, front door, main level, cozy comfortable, clean cozy comfortable\n",
      "      42, 0.005, 0.092, puget sound, olympic mountains, views puget sound, views puget\n",
      "      11, 0.005, 0.097, street parking, off street, off street parking, street parking available\n",
      "      37, 0.005, 0.102, kitchen living, bathroom kitchen, bathroom kitchen living, rented guests bathroom\n",
      "      36, 0.005, 0.107, main floor, floor guests, two bedrooms, bedrooms main\n",
      "      44, 0.005, 0.112, full size, study desk, medium sized, sized 10\n",
      "       6, 0.004, 0.116, walking distance, within walking distance, within walking, stores within\n",
      "      23, 0.004, 0.121, first floor, second floor, floor features, floor three\n",
      "      22, 0.004, 0.125, flat screen, screen tv, flat screen tv, relaxing stay\n",
      "      48, 0.004, 0.129, owner lives, wi fi, light view, door lock\n",
      "      47, 0.004, 0.134, international district, hill international, capitol hill international, hill international district\n",
      "      33, 0.004, 0.138, light rail, lake washington, easy access, access city\n",
      "      35, 0.004, 0.142, key less, steps away, keurig coffee maker, keurig coffee\n",
      "      28, 0.003, 0.145, queen size, new queen, new queen size, brand new\n",
      "      15, 0.003, 0.148, mini fridge, mini fridge microwave, fridge microwave, coffee maker\n",
      "      49, 0.003, 0.151, separate entrance, access separate entrance, access separate, upstairs emergency needs\n",
      "      18, 0.002, 0.153, memory foam, memory foam mattress, foam mattress, new memory\n",
      "      43, 0.002, 0.155, miles downtown, south center mall, south center, center mall\n",
      "      40, 0.002, 0.158, well maintained, whole food, welcome guests tea, character located montlake\n",
      "       7, 0.002, 0.159, living area towels, stairs upon, located same, hallway booked\n",
      "      24, 0.002, 0.161, full bath, lots street, lots street parking, top floor\n",
      "      30, 0.002, 0.163, high speed internet, speed internet, high speed, cable tv\n",
      "      25, 0.002, 0.165, university washington, downtown university, downtown university washington, green lake\n",
      "       4, 0.002, 0.166, easy access, shared bath, bath across hall, shared bath across\n",
      "      13, 0.002, 0.168, wireless internet, body wash provided, wash provided, machine washer\n",
      "      26, 0.002, 0.170, would like, let me, let me know, me know\n",
      "       9, 0.002, 0.171, clean sheets, part about, best part about, best part\n",
      "       2, 0.001, 0.172, instruction please, etc please do, please do not, parking spot\n",
      "      29, 0.001, 0.174, en suite, bathroom stocked body, wash shampoo conditioner, wash shampoo\n",
      "       5, 0.001, 0.175, paint new, bedrooms bathrooms brand, new furnace, drinking water machine\n",
      "       3, 0.001, 0.176, currently not, perfect spot, library plenty parking, stations freeway supermarkets\n",
      "      45, 0.001, 0.177, located top, new carpet, lake washington, townhome located\n",
      "      34, 0.001, 0.177, looking stay, during day, time town, prepare meals sleep\n",
      "      41, 0.001, 0.178, available upon, available upon request, quiet safe, upon request\n",
      "      14, 0.000, 0.178, ll see, wide range, person go encourages, like knives cutting\n",
      "      16, 0.000, 0.179, cool summer, winter cool summer, winter cool, double closet\n",
      "       8, 0.000, 0.179, three rooms, may get, private also provide, wish book all\n",
      "      21, 0.000, 0.180, small fan, fan open, also turn, mind please\n",
      "      46, 0.000, 0.180, safety stay, commute town, easy commute town, easy commute\n",
      "       1, 0.000, 0.180, share bathrooms please, bathrooms guest, please open window, that share bathrooms\n",
      "      12, 0.000, 0.180, convenient transportation, convenient transportation 舒适家位于郊外西雅图市中心和靠近交通便利的, downtown near convenient, outside downtown near\n"
     ]
    }
   ],
   "source": [
    "nlp.get_topic_weights_prop_range(full_scraped_df, 'price', tfidf_W, tfidf_H, 100, 9999, num_words=4)"
   ]
  },
  {
   "cell_type": "code",
   "execution_count": 29,
   "metadata": {
    "collapsed": false
   },
   "outputs": [
    {
     "name": "stdout",
     "output_type": "stream",
     "text": [
      "n =  467\n",
      "   TOPIC,    WT, SUMWT, WORDS\n",
      "       4, 0.011, 0.011, easy access, shared bath, bath across hall, shared bath across\n",
      "      42, 0.009, 0.020, puget sound, olympic mountains, views puget sound, views puget\n",
      "      32, 0.008, 0.028, own private, well lit, private entrance, own private entrance\n",
      "       3, 0.008, 0.036, currently not, perfect spot, library plenty parking, stations freeway supermarkets\n",
      "       0, 0.008, 0.044, shampoo conditioner, hair dryer, large closet, conditioner body\n",
      "      31, 0.007, 0.051, private bathroom, washer dryer, bathroom queen, private bathroom queen\n",
      "      20, 0.007, 0.058, natural light, lots natural light, lots natural, west facing\n",
      "      18, 0.007, 0.065, memory foam, memory foam mattress, foam mattress, new memory\n",
      "       2, 0.006, 0.071, instruction please, etc please do, please do not, parking spot\n",
      "      38, 0.006, 0.078, blocks away, few blocks away, few blocks, back yard\n",
      "      30, 0.005, 0.083, high speed internet, speed internet, high speed, cable tv\n",
      "      29, 0.005, 0.088, en suite, bathroom stocked body, wash shampoo conditioner, wash shampoo\n",
      "      14, 0.005, 0.094, ll see, wide range, person go encourages, like knives cutting\n",
      "      15, 0.005, 0.099, mini fridge, mini fridge microwave, fridge microwave, coffee maker\n",
      "      27, 0.005, 0.105, queen anne, minute walk, queen anne neighborhood, anne neighborhood\n",
      "      44, 0.005, 0.110, full size, study desk, medium sized, sized 10\n",
      "      13, 0.005, 0.115, wireless internet, body wash provided, wash provided, machine washer\n",
      "      33, 0.005, 0.120, light rail, lake washington, easy access, access city\n",
      "      19, 0.005, 0.125, capitol hill, hill downtown, capitol hill downtown, one block\n",
      "       1, 0.005, 0.130, share bathrooms please, bathrooms guest, please open window, that share bathrooms\n",
      "       6, 0.004, 0.134, walking distance, within walking distance, within walking, stores within\n",
      "      34, 0.004, 0.139, looking stay, during day, time town, prepare meals sleep\n",
      "      39, 0.004, 0.143, front door, main level, cozy comfortable, clean cozy comfortable\n",
      "      47, 0.004, 0.147, international district, hill international, capitol hill international, hill international district\n",
      "      11, 0.004, 0.151, street parking, off street, off street parking, street parking available\n",
      "      26, 0.004, 0.155, would like, let me, let me know, me know\n",
      "      22, 0.004, 0.159, flat screen, screen tv, flat screen tv, relaxing stay\n",
      "      17, 0.004, 0.163, feel free, free ask, feel free ask, master bathroom\n",
      "      24, 0.004, 0.167, full bath, lots street, lots street parking, top floor\n",
      "      40, 0.004, 0.170, well maintained, whole food, welcome guests tea, character located montlake\n",
      "      48, 0.004, 0.174, owner lives, wi fi, light view, door lock\n",
      "      37, 0.003, 0.177, kitchen living, bathroom kitchen, bathroom kitchen living, rented guests bathroom\n",
      "      49, 0.003, 0.181, separate entrance, access separate entrance, access separate, upstairs emergency needs\n",
      "      23, 0.003, 0.184, first floor, second floor, floor features, floor three\n",
      "      28, 0.003, 0.187, queen size, new queen, new queen size, brand new\n",
      "      25, 0.003, 0.190, university washington, downtown university, downtown university washington, green lake\n",
      "      46, 0.003, 0.193, safety stay, commute town, easy commute town, easy commute\n",
      "       5, 0.003, 0.196, paint new, bedrooms bathrooms brand, new furnace, drinking water machine\n",
      "      36, 0.003, 0.198, main floor, floor guests, two bedrooms, bedrooms main\n",
      "      41, 0.003, 0.201, available upon, available upon request, quiet safe, upon request\n",
      "      35, 0.003, 0.204, key less, steps away, keurig coffee maker, keurig coffee\n",
      "      43, 0.002, 0.206, miles downtown, south center mall, south center, center mall\n",
      "       9, 0.002, 0.208, clean sheets, part about, best part about, best part\n",
      "      45, 0.001, 0.209, located top, new carpet, lake washington, townhome located\n",
      "      16, 0.001, 0.210, cool summer, winter cool summer, winter cool, double closet\n",
      "       8, 0.001, 0.211, three rooms, may get, private also provide, wish book all\n",
      "      10, 0.001, 0.212, view downtown, deck view, deck view downtown, eat bar\n",
      "       7, 0.001, 0.213, living area towels, stairs upon, located same, hallway booked\n",
      "      21, 0.001, 0.213, small fan, fan open, also turn, mind please\n",
      "      12, 0.001, 0.214, convenient transportation, convenient transportation 舒适家位于郊外西雅图市中心和靠近交通便利的, downtown near convenient, outside downtown near\n"
     ]
    }
   ],
   "source": [
    "nlp.get_topic_weights_prop_range(full_scraped_df, 'price', tfidf_W, tfidf_H, 50, 100, num_words=4)"
   ]
  },
  {
   "cell_type": "code",
   "execution_count": 30,
   "metadata": {
    "collapsed": false
   },
   "outputs": [
    {
     "name": "stdout",
     "output_type": "stream",
     "text": [
      "n =  216\n",
      "   TOPIC,    WT, SUMWT, WORDS\n",
      "       2, 0.016, 0.016, instruction please, etc please do, please do not, parking spot\n",
      "       9, 0.015, 0.031, clean sheets, part about, best part about, best part\n",
      "      44, 0.011, 0.042, full size, study desk, medium sized, sized 10\n",
      "       7, 0.011, 0.053, living area towels, stairs upon, located same, hallway booked\n",
      "       5, 0.011, 0.063, paint new, bedrooms bathrooms brand, new furnace, drinking water machine\n",
      "      21, 0.010, 0.074, small fan, fan open, also turn, mind please\n",
      "      48, 0.010, 0.083, owner lives, wi fi, light view, door lock\n",
      "       1, 0.009, 0.093, share bathrooms please, bathrooms guest, please open window, that share bathrooms\n",
      "      16, 0.008, 0.101, cool summer, winter cool summer, winter cool, double closet\n",
      "      43, 0.008, 0.109, miles downtown, south center mall, south center, center mall\n",
      "      42, 0.007, 0.116, puget sound, olympic mountains, views puget sound, views puget\n",
      "      12, 0.007, 0.122, convenient transportation, convenient transportation 舒适家位于郊外西雅图市中心和靠近交通便利的, downtown near convenient, outside downtown near\n",
      "      36, 0.006, 0.129, main floor, floor guests, two bedrooms, bedrooms main\n",
      "       8, 0.006, 0.135, three rooms, may get, private also provide, wish book all\n",
      "      41, 0.006, 0.141, available upon, available upon request, quiet safe, upon request\n",
      "       6, 0.006, 0.148, walking distance, within walking distance, within walking, stores within\n",
      "      37, 0.006, 0.154, kitchen living, bathroom kitchen, bathroom kitchen living, rented guests bathroom\n",
      "      38, 0.006, 0.160, blocks away, few blocks away, few blocks, back yard\n",
      "      35, 0.005, 0.166, key less, steps away, keurig coffee maker, keurig coffee\n",
      "      30, 0.005, 0.171, high speed internet, speed internet, high speed, cable tv\n",
      "      47, 0.005, 0.176, international district, hill international, capitol hill international, hill international district\n",
      "      46, 0.005, 0.181, safety stay, commute town, easy commute town, easy commute\n",
      "      28, 0.005, 0.185, queen size, new queen, new queen size, brand new\n",
      "      29, 0.005, 0.190, en suite, bathroom stocked body, wash shampoo conditioner, wash shampoo\n",
      "      18, 0.005, 0.194, memory foam, memory foam mattress, foam mattress, new memory\n",
      "      15, 0.004, 0.199, mini fridge, mini fridge microwave, fridge microwave, coffee maker\n",
      "      22, 0.004, 0.203, flat screen, screen tv, flat screen tv, relaxing stay\n",
      "      24, 0.004, 0.207, full bath, lots street, lots street parking, top floor\n",
      "       0, 0.004, 0.211, shampoo conditioner, hair dryer, large closet, conditioner body\n",
      "      20, 0.004, 0.215, natural light, lots natural light, lots natural, west facing\n",
      "      33, 0.004, 0.218, light rail, lake washington, easy access, access city\n",
      "       3, 0.004, 0.222, currently not, perfect spot, library plenty parking, stations freeway supermarkets\n",
      "      39, 0.003, 0.225, front door, main level, cozy comfortable, clean cozy comfortable\n",
      "      31, 0.003, 0.228, private bathroom, washer dryer, bathroom queen, private bathroom queen\n",
      "      11, 0.003, 0.231, street parking, off street, off street parking, street parking available\n",
      "      40, 0.003, 0.234, well maintained, whole food, welcome guests tea, character located montlake\n",
      "      27, 0.003, 0.236, queen anne, minute walk, queen anne neighborhood, anne neighborhood\n",
      "      17, 0.002, 0.239, feel free, free ask, feel free ask, master bathroom\n",
      "      25, 0.002, 0.241, university washington, downtown university, downtown university washington, green lake\n",
      "      49, 0.002, 0.243, separate entrance, access separate entrance, access separate, upstairs emergency needs\n",
      "      32, 0.002, 0.244, own private, well lit, private entrance, own private entrance\n",
      "      13, 0.002, 0.246, wireless internet, body wash provided, wash provided, machine washer\n",
      "      19, 0.002, 0.247, capitol hill, hill downtown, capitol hill downtown, one block\n",
      "      23, 0.001, 0.249, first floor, second floor, floor features, floor three\n",
      "       4, 0.001, 0.250, easy access, shared bath, bath across hall, shared bath across\n",
      "      26, 0.001, 0.251, would like, let me, let me know, me know\n",
      "      45, 0.001, 0.252, located top, new carpet, lake washington, townhome located\n",
      "      34, 0.001, 0.253, looking stay, during day, time town, prepare meals sleep\n",
      "      10, 0.000, 0.254, view downtown, deck view, deck view downtown, eat bar\n",
      "      14, 0.000, 0.254, ll see, wide range, person go encourages, like knives cutting\n"
     ]
    }
   ],
   "source": [
    "nlp.get_topic_weights_prop_range(full_scraped_df, 'price', tfidf_W, tfidf_H, 0, 50, num_words=4)"
   ]
  },
  {
   "cell_type": "markdown",
   "metadata": {},
   "source": [
    "## Observations\n",
    "\n",
    "NMF topic modeling with TFIDF matrices reveal interesting traits about different property types. \n",
    "\n",
    "For properties priced > 100, the top 5 topics are:\n",
    "1. View\n",
    "2. Private bathroom\n",
    "3. Private Entrance\n",
    "4. Kitchen\n",
    "5. Parking\n",
    "\n",
    "For properties priced < 50, the top 5 topics are:\n",
    "1. Instructions\n",
    "2. Clean sheets\n",
    "3. Hallway\n",
    "4. Instructions\n",
    "5. Floor layout\n",
    "\n",
    "The data suggests that properties that offer views, private bathrooms, and private entrances are often priced higher.  This aligns with our intuition.\n",
    "\n",
    "\n",
    "## Next steps\n",
    "\n",
    "Include topics of interest as features in the regression model!"
   ]
  },
  {
   "cell_type": "code",
   "execution_count": null,
   "metadata": {
    "collapsed": true
   },
   "outputs": [],
   "source": []
  }
 ],
 "metadata": {
  "anaconda-cloud": {},
  "kernelspec": {
   "display_name": "Python [default]",
   "language": "python",
   "name": "python2"
  },
  "language_info": {
   "codemirror_mode": {
    "name": "ipython",
    "version": 2
   },
   "file_extension": ".py",
   "mimetype": "text/x-python",
   "name": "python",
   "nbconvert_exporter": "python",
   "pygments_lexer": "ipython2",
   "version": "2.7.12"
  }
 },
 "nbformat": 4,
 "nbformat_minor": 2
}
