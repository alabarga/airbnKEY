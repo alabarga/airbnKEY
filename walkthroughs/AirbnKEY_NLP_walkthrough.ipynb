{
 "cells": [
  {
   "cell_type": "markdown",
   "metadata": {},
   "source": [
    "# Using Natural Language Processing to Identify Latent Features\n",
    "\n",
    "Airbnb hosts often provide rich and detailed descriptions of their homes on their listing pages in the hopes that they can sway a visitor to book their property.\n",
    "\n",
    "Using Non-Negative Matrix Factorization, we will try to identify latent features from these authored descriptions that we can add as additional features to support our regression modeling efforts. "
   ]
  },
  {
   "cell_type": "markdown",
   "metadata": {},
   "source": [
    "## Note on Confidentiality\n",
    "\n",
    "This project was conducted in collaboration with Loftium (http://www.loftium.com/). Due to the confidentiality of some of the data and modeling methodology, this section has been restricted. \n",
    "\n",
    "If you are a recruiter who requires access to this content, please send me an inquiry at john.mk.kim@gmail.com."
   ]
  },
  {
   "cell_type": "code",
   "execution_count": null,
   "metadata": {
    "collapsed": true
   },
   "outputs": [],
   "source": []
  }
 ],
 "metadata": {
  "anaconda-cloud": {},
  "kernelspec": {
   "display_name": "Python [default]",
   "language": "python",
   "name": "python2"
  },
  "language_info": {
   "codemirror_mode": {
    "name": "ipython",
    "version": 2
   },
   "file_extension": ".py",
   "mimetype": "text/x-python",
   "name": "python",
   "nbconvert_exporter": "python",
   "pygments_lexer": "ipython2",
   "version": "2.7.12"
  }
 },
 "nbformat": 4,
 "nbformat_minor": 2
}
