{
 "cells": [
  {
   "cell_type": "markdown",
   "metadata": {},
   "source": [
    "# Using Natural Language Processing to Identify Latent Features\n",
    "\n",
    "Airbnb hosts often provide rich and detailed descriptions of their homes on their listing pages in the hopes that they can sway a visitor to book their property.\n",
    "\n",
    "Using Non-Negative Matrix Factorization, we will try to identify latent features from these authored descriptions that we can add as additional features to support our regression modeling efforts. "
   ]
  },
  {
   "cell_type": "code",
   "execution_count": 1,
   "metadata": {
    "collapsed": false
   },
   "outputs": [],
   "source": [
    "import pandas as pd\n",
    "import numpy as np\n",
    "from collections import defaultdict\n",
    "\n",
    "from sklearn.feature_extraction.text import CountVectorizer, TfidfVectorizer, ENGLISH_STOP_WORDS\n",
    "from sklearn.decomposition import NMF\n",
    "\n",
    "import matplotlib.pyplot as plt\n",
    "import json\n",
    "\n",
    "import nltk\n",
    "from nltk.tokenize import sent_tokenize, regexp\n",
    "from nltk.stem.porter import PorterStemmer\n",
    "from nltk.stem.snowball import SnowballStemmer\n",
    "from nltk.stem import WordNetLemmatizer\n",
    "from nltk import word_tokenize \n",
    "\n",
    "import src.airbnb_read_data_helper as read\n",
    "import src.airbnb_NLP_helper as nlp\n"
   ]
  },
  {
   "cell_type": "markdown",
   "metadata": {},
   "source": [
    "## Load detailed listing information"
   ]
  },
  {
   "cell_type": "code",
   "execution_count": 2,
   "metadata": {
    "collapsed": false
   },
   "outputs": [],
   "source": [
    "listing_details_raw_df = read.import_txtfile_as_df('data/airbnb_scraping/Seattle/Seattle_scraped_listing_info_20170317_COMBINED.txt')"
   ]
  },
  {
   "cell_type": "code",
   "execution_count": 3,
   "metadata": {
    "collapsed": false
   },
   "outputs": [
    {
     "name": "stderr",
     "output_type": "stream",
     "text": [
      "/Users/johnkim/anaconda2/lib/python2.7/site-packages/ipykernel/__main__.py:1: FutureWarning: convert_objects is deprecated.  Use the data-type specific converters pd.to_datetime, pd.to_timedelta and pd.to_numeric.\n",
      "  if __name__ == '__main__':\n"
     ]
    }
   ],
   "source": [
    "listing_details_df = listing_details_raw_df.convert_objects(convert_numeric=True)\n",
    "\n",
    "listing_details_df.drop('Save to Wish ListRoom TypeEntire home/aptProperty TypeAccommodates2Bedrooms$99 Barn 11', \n",
    "                        axis=1, inplace=True)"
   ]
  },
  {
   "cell_type": "markdown",
   "metadata": {},
   "source": [
    "## Load in scraped metadata"
   ]
  },
  {
   "cell_type": "code",
   "execution_count": 4,
   "metadata": {
    "collapsed": true
   },
   "outputs": [],
   "source": [
    "scraped_meta_raw_df, scraped_meta_json = read.import_json_as_df('data/airbnb_scraping/Seattle/comb_temp2')"
   ]
  },
  {
   "cell_type": "code",
   "execution_count": 5,
   "metadata": {
    "collapsed": false
   },
   "outputs": [],
   "source": [
    "scraped_meta_price_df = read.convert_json_price_to_df(scraped_meta_json)\n",
    "scraped_meta_desc_df = read.convert_json_desc_to_df(scraped_meta_json)\n",
    "scraped_meta_amen_df = read.convert_json_amenities_to_df(scraped_meta_json)\n",
    "scraped_meta_df = pd.concat([scraped_meta_price_df,scraped_meta_desc_df,scraped_meta_amen_df], axis=1)\n",
    "scraped_meta_df = scraped_meta_df.reset_index()\n",
    "scraped_meta_df = scraped_meta_df.rename(columns={'index':'prop_id'})"
   ]
  },
  {
   "cell_type": "code",
   "execution_count": 6,
   "metadata": {
    "collapsed": false
   },
   "outputs": [],
   "source": [
    "full_scraped_df = scraped_meta_df.merge(listing_details_df, how='inner', left_on=\"prop_id\", right_on=\"hosting_id\")\n",
    "\n",
    "full_scraped_df.space = full_scraped_df.space.str.lower().str.strip().str.replace(\"\\n\",\" \")\n",
    "full_scraped_df = full_scraped_df[~full_scraped_df.space.isnull()]\n",
    "full_scraped_df.space = full_scraped_df.space.str.encode(\"utf-8\")"
   ]
  },
  {
   "cell_type": "markdown",
   "metadata": {},
   "source": [
    "## Text Analysis"
   ]
  },
  {
   "cell_type": "markdown",
   "metadata": {},
   "source": [
    "Building the right stopword dictionary ensures that we get more signal than noise when conducting natural language processing.  \n",
    "\n",
    "This is a curated list of very common words that we do not want to be used in tf or tf-idf calculations. "
   ]
  },
  {
   "cell_type": "code",
   "execution_count": 7,
   "metadata": {
    "collapsed": true
   },
   "outputs": [],
   "source": [
    "airbnb_stopwords = [\n",
    "'and', 'the', 'to', 'a', 'in', 'of', 'with', 'is',  'on', 'you', 'this','our', 'has', 'are', 'for','your', 'out', 'there', 'will',\n",
    "'can', 'be',  'but', 'its', 're','which','here', 'or',  'we', 'it',  'an','from','by','my', 'have', 'at', 'as', 'just',\n",
    "'room','bedroom','bed', 'home','house','place','location', 'space', 'host', \n",
    "'seattle',\n",
    "'solo', 'adventurers', 'business', 'travelers', 'couples', \n",
    "'youll', 'love', 'because', 'www', 'airbnb', 'com', 'https'\n",
    "]"
   ]
  },
  {
   "cell_type": "markdown",
   "metadata": {},
   "source": [
    "## Analyzing Airbnb Descriptions - Term Frequency"
   ]
  },
  {
   "cell_type": "code",
   "execution_count": 14,
   "metadata": {
    "collapsed": false
   },
   "outputs": [],
   "source": [
    "tf = CountVectorizer(stop_words=airbnb_stopwords, \n",
    "                     max_features=10000, ngram_range=(2,3),\n",
    "                     #min_df=0.02, max_df=0.98,\n",
    "                     #tokenizer=tokenize_and_stem)\n",
    "                    )\n",
    "\n",
    "tf_matrix = tf.fit_transform(full_scraped_df.space)\n",
    "tf_vocab = np.array(tf.get_feature_names())\n",
    "tf_matrix_sum = np.sum(tf_matrix.toarray(),axis=0)\n",
    "sorted_ind = np.argsort(tf_matrix_sum)[::-1]"
   ]
  },
  {
   "cell_type": "code",
   "execution_count": 15,
   "metadata": {
    "collapsed": false
   },
   "outputs": [
    {
     "name": "stdout",
     "output_type": "stream",
     "text": [
      "Number of properties: 97\n",
      "Top term frequency based on price, 100 > price > 9999\n",
      "\n",
      "                          WORD, COUNT,   PCT\n",
      "---------------------------------------------\n",
      "                street parking,    15, 15.46%\n",
      "              private bathroom,    13, 13.40%\n",
      "                   living area,    13, 13.40%\n",
      "              walking distance,    12, 12.37%\n",
      "                    lake union,    12, 12.37%\n",
      "                  capitol hill,    11, 11.34%\n",
      "                    queen size,    11, 11.34%\n",
      "                  private bath,     9, 9.28%\n",
      "                kitchen living,     9, 9.28%\n",
      "                    queen anne,     9, 9.28%\n"
     ]
    }
   ],
   "source": [
    "nlp.get_top_term_frequency(tf=tf, df=full_scraped_df, column='space', \n",
    "                           by='price', lower_lim=100, upper_lim=9999, \n",
    "                           num_words=10)"
   ]
  },
  {
   "cell_type": "code",
   "execution_count": 16,
   "metadata": {
    "collapsed": false
   },
   "outputs": [
    {
     "name": "stdout",
     "output_type": "stream",
     "text": [
      "Number of properties: 321\n",
      "Top term frequency based on price, 50 > price > 75\n",
      "\n",
      "                          WORD, COUNT,   PCT\n",
      "---------------------------------------------\n",
      "                street parking,    32, 9.97%\n",
      "                    queen size,    31, 9.66%\n",
      "                   easy access,    31, 9.66%\n",
      "              private bathroom,    28, 8.72%\n",
      "                    light rail,    27, 8.41%\n",
      "                  washer dryer,    27, 8.41%\n",
      "                        do not,    26, 8.10%\n",
      "                  capitol hill,    25, 7.79%\n",
      "                 full bathroom,    23, 7.17%\n",
      "                    coffee tea,    23, 7.17%\n"
     ]
    }
   ],
   "source": [
    "nlp.get_top_term_frequency(tf=tf, df=full_scraped_df, column='space', \n",
    "                           by='price', lower_lim=50, upper_lim=75, \n",
    "                           num_words=10)"
   ]
  },
  {
   "cell_type": "code",
   "execution_count": 17,
   "metadata": {
    "collapsed": false
   },
   "outputs": [
    {
     "name": "stdout",
     "output_type": "stream",
     "text": [
      "Number of properties: 216\n",
      "Top term frequency based on price, 0 > price > 50\n",
      "\n",
      "                          WORD, COUNT,   PCT\n",
      "---------------------------------------------\n",
      "                    main floor,    23, 10.65%\n",
      "                street parking,    20, 9.26%\n",
      "                    coffee tea,    19, 8.80%\n",
      "              walking distance,    18, 8.33%\n",
      "                     small fan,    16, 7.41%\n",
      "                closet hangers,    16, 7.41%\n",
      "                    queen size,    14, 6.48%\n",
      "                  coffee maker,    14, 6.48%\n",
      "                        do not,    13, 6.02%\n",
      "                   please keep,    13, 6.02%\n"
     ]
    }
   ],
   "source": [
    "nlp.get_top_term_frequency(tf=tf, df=full_scraped_df, column='space', \n",
    "                           by='price', lower_lim=0, upper_lim=50, \n",
    "                           num_words=10)"
   ]
  },
  {
   "cell_type": "code",
   "execution_count": 18,
   "metadata": {
    "collapsed": false
   },
   "outputs": [
    {
     "name": "stdout",
     "output_type": "stream",
     "text": [
      "Number of properties: 192\n",
      "Top term frequency based on price, 75 > price > 100\n",
      "\n",
      "                          WORD, COUNT,   PCT\n",
      "---------------------------------------------\n",
      "                street parking,    27, 14.06%\n",
      "              private bathroom,    25, 13.02%\n",
      "                  washer dryer,    24, 12.50%\n",
      "                   puget sound,    21, 10.94%\n",
      "                  coffee maker,    19, 9.90%\n",
      "                   during stay,    17, 8.85%\n",
      "                    queen size,    17, 8.85%\n",
      "                      bus stop,    16, 8.33%\n",
      "                   minute walk,    16, 8.33%\n",
      "                        let me,    15, 7.81%\n"
     ]
    }
   ],
   "source": [
    "nlp.get_top_term_frequency(tf=tf, df=full_scraped_df, column='space', \n",
    "                           by='price', lower_lim=75, upper_lim=100, \n",
    "                           num_words=10)"
   ]
  },
  {
   "cell_type": "markdown",
   "metadata": {},
   "source": [
    "Based on term frequency alone, there doesn't seem to be a lot of insights to take away. All pricing tiers have similar word breakdowns. \n",
    "\n",
    "Let's look at topic modeling to get to deeper insights."
   ]
  },
  {
   "cell_type": "markdown",
   "metadata": {
    "collapsed": true
   },
   "source": [
    "# Topic Modeling"
   ]
  },
  {
   "cell_type": "markdown",
   "metadata": {},
   "source": [
    "### NMF Factorization with term-frequency"
   ]
  },
  {
   "cell_type": "code",
   "execution_count": 19,
   "metadata": {
    "collapsed": false
   },
   "outputs": [],
   "source": [
    "tf_NMF = CountVectorizer(stop_words=airbnb_stopwords, max_features=10000, ngram_range=(2,2), min_df=2)\n",
    "tf_NMF_matrix = tf_NMF.fit_transform(full_scraped_df.space)\n",
    "tf_NMF_vocab= np.array(tf_NMF.get_feature_names())"
   ]
  },
  {
   "cell_type": "code",
   "execution_count": 25,
   "metadata": {
    "collapsed": false
   },
   "outputs": [
    {
     "data": {
      "text/plain": [
       "NMF(alpha=0.0, beta=1, eta=0.1, init=None, l1_ratio=0.0, max_iter=200,\n",
       "  n_components=50, nls_max_iter=2000, random_state=None, shuffle=False,\n",
       "  solver='cd', sparseness=None, tol=0.0001, verbose=0)"
      ]
     },
     "execution_count": 25,
     "metadata": {},
     "output_type": "execute_result"
    }
   ],
   "source": [
    "nmf = NMF(n_components=50)\n",
    "nmf.fit(tf_NMF_matrix.toarray())"
   ]
  },
  {
   "cell_type": "code",
   "execution_count": 26,
   "metadata": {
    "collapsed": false
   },
   "outputs": [
    {
     "name": "stdout",
     "output_type": "stream",
     "text": [
      "RSS = 126.89\n"
     ]
    }
   ],
   "source": [
    "tf_W = nmf.transform(tf_NMF_matrix.toarray())\n",
    "tf_H = nmf.components_\n",
    "print 'RSS = %.2f' % nmf.reconstruction_err_"
   ]
  },
  {
   "cell_type": "code",
   "execution_count": 27,
   "metadata": {
    "collapsed": false
   },
   "outputs": [
    {
     "data": {
      "text/plain": [
       "((826, 50), (50, 8426))"
      ]
     },
     "execution_count": 27,
     "metadata": {},
     "output_type": "execute_result"
    }
   ],
   "source": [
    "tf_W.shape, tf_H.shape"
   ]
  },
  {
   "cell_type": "code",
   "execution_count": 28,
   "metadata": {
    "collapsed": false
   },
   "outputs": [],
   "source": [
    "tf_W = pd.DataFrame(tf_W,index=full_scraped_df.space)\n",
    "tf_H = pd.DataFrame(tf_H,columns=tf_NMF_vocab)"
   ]
  },
  {
   "cell_type": "markdown",
   "metadata": {},
   "source": [
    "#### Printing top words per topic"
   ]
  },
  {
   "cell_type": "code",
   "execution_count": 29,
   "metadata": {
    "collapsed": false
   },
   "outputs": [
    {
     "name": "stdout",
     "output_type": "stream",
     "text": [
      "0 me know, let me, if need, would like, any time, block away, peruvian breakfast\n",
      "1 instruction please, do not, parking spot, etc please, please do, please read, check instruction\n",
      "2 feel free, guests rooms, street parking, master bathroom, guest rooms, free ask, front door\n",
      "3 hot tub, garden guesthouse, fully equipped, private garden, 15 min, jacuzzi hot, easy access\n",
      "4 full sized, walking distance, good fit, 10 years, free standing, within walking, guests use\n",
      "5 shared bathrooms, get up, before booking, unusual want, steep ladder, not meant, meant sleeping\n",
      "6 deck view, view downtown, 3rd fl, eat bar, 11 am, full bath, full size\n",
      "7 lots fun, feel free, arts district, easy access, if need, free ask, do not\n",
      "8 clean sheets, extra blankets, best part, part about, couldn closer, about staying, staying experience\n",
      "9 parking available, full kitchen, fully furnished, fully stocked, if looking, rooms available, minutes away\n",
      "10 easy access, shared bath, across hall, bath across, access downtown, bus lines, 20 minutes\n",
      "11 minute walk, if desired, one block, bus lines, ballard locks, use kitchen, downtown 20\n",
      "12 lake union, living area, walking distance, kitchen living, bathroom kitchen, dining area, queen anne\n",
      "13 back yard, blocks away, spacious back, library cd, cd collection, few blocks, block away\n",
      "14 bamboo flooring, main floor, guests enjoy, street parking, coffee tea, flat screen, hardwood floors\n",
      "15 do not, capitol hill, westlake station, volunteer park, so please, check time, seatac airport\n",
      "16 brand new, if need, 2nd floor, feel free, master suite, high speed, bedrooms bathrooms\n",
      "17 if she, minutes south, walking distance, within walking, high speed, speed internet, grocery stores\n",
      "18 small fan, rooms that, that share, closet hangers, please keep, down moisture, cut down\n",
      "19 try some, pick up, emp museum, puget sound, that include, 10 minutes, block away\n",
      "20 mini refrigerator, coffee maker, does not, other bathroom, screen tv, flat screen, refrigerator microwave\n",
      "21 memory foam, walking distance, foam mattress, coffee tea, within walking, fresh towels, wi fi\n",
      "22 seatac airport, private entrance, late night, full size, any time, back yard, drop off\n",
      "23 blocks away, 20 minutes, also available, within walking, minutes downtown, university washington, available use\n",
      "24 seed milk, if need, one own, year round, bring own, so please, self sufficient\n",
      "25 their own, coffee maker, please note, note that, does not, hot plate, do not\n",
      "26 living area, shared apartment, full sized, apartment building, guest use, extended stay, during day\n",
      "27 capitol hill, public transportation, all guests, staying us, minute walk, bus ride, 10 15\n",
      "28 provided all, feel free, hot tub, that offer, serene setting, away all, look forward\n",
      "29 queen anne, minute walk, 10 minute, anne neighborhood, upper queen, bus lines, take downtown\n",
      "30 well equipped, hot plate, includes small, longer term, toast coffee, ll see, wide range\n",
      "31 walking distance, private bathroom, within walking, gilman trail, burke gilman, no smoking, private deck\n",
      "32 shampoo conditioner, queen size, body wash, hair dryer, conditioner body, free street, private bathroom\n",
      "33 screen tv, first floor, flat screen, 15 minute, alki beach, if need, water taxi\n",
      "34 public transportation, less than, one bus, walking distance, kitchen living, light rail, university washington\n",
      "35 cool summer, double closet, winter cool, fruit trees, apple orchard, light double, vegetables prolific\n",
      "36 let me, me know, convention center, during stay, so if, half block, short blocks\n",
      "37 kelly belly, fire pit, heart city, guests during, modern comforts, like away, garden grown\n",
      "38 puget sound, blocks away, bathroom living, guest bathroom, living porch, olympic mountains, back yard\n",
      "39 light rail, blocks away, rail station, lake washington, minutes away, bus routes, set up\n",
      "40 lake union, woodland park, 10 15, green lake, burke gilman, park zoo, south lake\n",
      "41 puget sound, views puget, discovery park, panoramic views, olympic mountain, mountain range, stay private\n",
      "42 second floor, first floor, kitchenette bathroom, washer dryer, free use, under sink, during stay\n",
      "43 min drive, lounge chairs, lincoln park, 15 minutes, westwood village, 10 min, coffee maker\n",
      "44 three rooms, me know, let me, please let, know if, that very, also provide\n",
      "45 street parking, off street, main floor, washer dryer, minute walk, parking available, free off\n",
      "46 minutes away, areas quiet, nearby areas, us if, 20 minutes, if need, pike market\n",
      "47 capitol hill, full size, university washington, basement that, all amenities, apartment that, ceiling height\n",
      "48 main floor, private suite, five blocks, blocks greenlake, other adventures, greenlake amp, own private\n",
      "49 flat screen, tv all, screen tv, available guests, morning coffee, large flat, so feel\n"
     ]
    }
   ],
   "source": [
    "for row in xrange(tf_H.shape[0]):\n",
    "    print row, ', '.join(list(tf_H.iloc[row].sort_values(ascending=False).index[:6]))\n",
    "    #print (list(H.iloc[row].sort_values(ascending=False)[:10]))"
   ]
  },
  {
   "cell_type": "code",
   "execution_count": 11,
   "metadata": {
    "collapsed": false
   },
   "outputs": [
    {
     "name": "stdout",
     "output_type": "stream",
     "text": [
      "Number of properties: 321\n",
      "Top term frequency based on price, 50 > price > 75\n",
      "\n",
      "                          WORD, COUNT,   PCT\n",
      "---------------------------------------------\n",
      "                street parking,    32, 9.97%\n",
      "                    queen size,    31, 9.66%\n",
      "                   easy access,    31, 9.66%\n",
      "              private bathroom,    28, 8.72%\n",
      "                    light rail,    27, 8.41%\n",
      "                  washer dryer,    27, 8.41%\n",
      "                        do not,    26, 8.10%\n",
      "                  capitol hill,    25, 7.79%\n",
      "                 full bathroom,    23, 7.17%\n",
      "                    coffee tea,    23, 7.17%\n"
     ]
    }
   ],
   "source": [
    "nlp.get_top_term_frequency(tf=tf, df=full_scraped_df, column='space', \n",
    "                           by='price', lower_lim=50, upper_lim=75, \n",
    "                           num_words=10)"
   ]
  },
  {
   "cell_type": "markdown",
   "metadata": {},
   "source": [
    "Looking through the NMF topic list above, there indeed a few noteworthy features that have floated to the top.\n",
    "\n",
    "- Topic 6 seems to be about scenic views. \n",
    "- Topic 3 seems to highlight luxurious features, such as hot tubs, decks, and gardens.\n",
    "- Topic 21 seems to highlight comfort features. \n",
    "- Topic 49 seems to be about televisions.\n",
    "\n",
    "Let's see the weights of each of these topics for different properties. Perhaps the higher priced properties exhibit higher weights for luxurious features and views? "
   ]
  },
  {
   "cell_type": "markdown",
   "metadata": {},
   "source": [
    "**What are the top topics for properties > 100?**"
   ]
  },
  {
   "cell_type": "code",
   "execution_count": 30,
   "metadata": {
    "collapsed": false
   },
   "outputs": [
    {
     "name": "stdout",
     "output_type": "stream",
     "text": [
      "n =  80\n",
      "   TOPIC,    WT, SUMWT, WORDS\n",
      "       6, 0.109, 0.109, deck view, view downtown, 3rd fl, eat bar, 11 am\n",
      "      12, 0.058, 0.166, lake union, living area, walking distance, kitchen living, bathroom kitchen\n",
      "      47, 0.050, 0.217, capitol hill, full size, university washington, basement that, all amenities\n",
      "       3, 0.046, 0.262, hot tub, garden guesthouse, fully equipped, private garden, 15 min\n",
      "      33, 0.043, 0.306, screen tv, first floor, flat screen, 15 minute, alki beach\n",
      "       2, 0.043, 0.348, feel free, guests rooms, street parking, master bathroom, guest rooms\n",
      "      45, 0.038, 0.386, street parking, off street, main floor, washer dryer, minute walk\n",
      "      42, 0.025, 0.411, second floor, first floor, kitchenette bathroom, washer dryer, free use\n",
      "      32, 0.024, 0.435, shampoo conditioner, queen size, body wash, hair dryer, conditioner body\n",
      "      39, 0.021, 0.455, light rail, blocks away, rail station, lake washington, minutes away\n",
      "      29, 0.015, 0.471, queen anne, minute walk, 10 minute, anne neighborhood, upper queen\n",
      "      48, 0.014, 0.485, main floor, private suite, five blocks, blocks greenlake, other adventures\n",
      "      15, 0.011, 0.496, do not, capitol hill, westlake station, volunteer park, so please\n",
      "      40, 0.011, 0.507, lake union, woodland park, 10 15, green lake, burke gilman\n",
      "      43, 0.010, 0.516, min drive, lounge chairs, lincoln park, 15 minutes, westwood village\n",
      "      46, 0.009, 0.525, minutes away, areas quiet, nearby areas, us if, 20 minutes\n",
      "      38, 0.009, 0.534, puget sound, blocks away, bathroom living, guest bathroom, living porch\n",
      "      41, 0.009, 0.543, puget sound, views puget, discovery park, panoramic views, olympic mountain\n",
      "      22, 0.008, 0.550, seatac airport, private entrance, late night, full size, any time\n",
      "      31, 0.007, 0.558, walking distance, private bathroom, within walking, gilman trail, burke gilman\n",
      "      25, 0.007, 0.565, their own, coffee maker, please note, note that, does not\n",
      "      36, 0.007, 0.572, let me, me know, convention center, during stay, so if\n",
      "      34, 0.007, 0.578, public transportation, less than, one bus, walking distance, kitchen living\n",
      "      27, 0.007, 0.585, capitol hill, public transportation, all guests, staying us, minute walk\n",
      "      28, 0.006, 0.590, provided all, feel free, hot tub, that offer, serene setting\n",
      "      23, 0.006, 0.596, blocks away, 20 minutes, also available, within walking, minutes downtown\n",
      "      13, 0.005, 0.601, back yard, blocks away, spacious back, library cd, cd collection\n",
      "      20, 0.005, 0.606, mini refrigerator, coffee maker, does not, other bathroom, screen tv\n",
      "      26, 0.005, 0.611, living area, shared apartment, full sized, apartment building, guest use\n",
      "      21, 0.005, 0.616, memory foam, walking distance, foam mattress, coffee tea, within walking\n",
      "      16, 0.004, 0.620, brand new, if need, 2nd floor, feel free, master suite\n",
      "      10, 0.004, 0.624, easy access, shared bath, across hall, bath across, access downtown\n",
      "      44, 0.004, 0.628, three rooms, me know, let me, please let, know if\n",
      "       9, 0.004, 0.632, parking available, full kitchen, fully furnished, fully stocked, if looking\n",
      "       4, 0.004, 0.635, full sized, walking distance, good fit, 10 years, free standing\n",
      "      14, 0.004, 0.639, bamboo flooring, main floor, guests enjoy, street parking, coffee tea\n",
      "      19, 0.004, 0.643, try some, pick up, emp museum, puget sound, that include\n",
      "       7, 0.003, 0.646, lots fun, feel free, arts district, easy access, if need\n",
      "      49, 0.003, 0.649, flat screen, tv all, screen tv, available guests, morning coffee\n",
      "       1, 0.003, 0.652, instruction please, do not, parking spot, etc please, please do\n",
      "      11, 0.003, 0.654, minute walk, if desired, one block, bus lines, ballard locks\n",
      "      37, 0.002, 0.657, kelly belly, fire pit, heart city, guests during, modern comforts\n",
      "       5, 0.002, 0.659, shared bathrooms, get up, before booking, unusual want, steep ladder\n",
      "      35, 0.002, 0.662, cool summer, double closet, winter cool, fruit trees, apple orchard\n",
      "       8, 0.002, 0.664, clean sheets, extra blankets, best part, part about, couldn closer\n",
      "      17, 0.002, 0.665, if she, minutes south, walking distance, within walking, high speed\n",
      "      18, 0.002, 0.667, small fan, rooms that, that share, closet hangers, please keep\n",
      "      30, 0.001, 0.668, well equipped, hot plate, includes small, longer term, toast coffee\n",
      "       0, 0.001, 0.669, me know, let me, if need, would like, any time\n",
      "      24, 0.001, 0.669, seed milk, if need, one own, year round, bring own\n"
     ]
    }
   ],
   "source": [
    "nlp.get_topic_weights_prop_range(full_scraped_df, 'price', tf_W, tf_H, 100, 9999)"
   ]
  },
  {
   "cell_type": "markdown",
   "metadata": {},
   "source": [
    "**What are the top topics for properties with 50 < price < 100?**"
   ]
  },
  {
   "cell_type": "code",
   "execution_count": 32,
   "metadata": {
    "collapsed": false
   },
   "outputs": [
    {
     "name": "stdout",
     "output_type": "stream",
     "text": [
      "n =  467\n",
      "   TOPIC,    WT, SUMWT, WORDS\n",
      "      45, 0.030, 0.030, street parking, off street, main floor, washer dryer, minute walk\n",
      "      42, 0.030, 0.060, second floor, first floor, kitchenette bathroom, washer dryer, free use\n",
      "      32, 0.026, 0.086, shampoo conditioner, queen size, body wash, hair dryer, conditioner body\n",
      "       9, 0.022, 0.108, parking available, full kitchen, fully furnished, fully stocked, if looking\n",
      "      39, 0.022, 0.130, light rail, blocks away, rail station, lake washington, minutes away\n",
      "      10, 0.022, 0.151, easy access, shared bath, across hall, bath across, access downtown\n",
      "      21, 0.019, 0.170, memory foam, walking distance, foam mattress, coffee tea, within walking\n",
      "      48, 0.018, 0.189, main floor, private suite, five blocks, blocks greenlake, other adventures\n",
      "       2, 0.018, 0.207, feel free, guests rooms, street parking, master bathroom, guest rooms\n",
      "       7, 0.018, 0.225, lots fun, feel free, arts district, easy access, if need\n",
      "       5, 0.017, 0.242, shared bathrooms, get up, before booking, unusual want, steep ladder\n",
      "      46, 0.017, 0.259, minutes away, areas quiet, nearby areas, us if, 20 minutes\n",
      "      26, 0.017, 0.276, living area, shared apartment, full sized, apartment building, guest use\n",
      "      29, 0.016, 0.292, queen anne, minute walk, 10 minute, anne neighborhood, upper queen\n",
      "      41, 0.016, 0.308, puget sound, views puget, discovery park, panoramic views, olympic mountain\n",
      "       1, 0.016, 0.324, instruction please, do not, parking spot, etc please, please do\n",
      "      43, 0.015, 0.340, min drive, lounge chairs, lincoln park, 15 minutes, westwood village\n",
      "      28, 0.015, 0.355, provided all, feel free, hot tub, that offer, serene setting\n",
      "      15, 0.015, 0.370, do not, capitol hill, westlake station, volunteer park, so please\n",
      "      31, 0.015, 0.385, walking distance, private bathroom, within walking, gilman trail, burke gilman\n",
      "      47, 0.015, 0.400, capitol hill, full size, university washington, basement that, all amenities\n",
      "      30, 0.014, 0.414, well equipped, hot plate, includes small, longer term, toast coffee\n",
      "      19, 0.014, 0.428, try some, pick up, emp museum, puget sound, that include\n",
      "      22, 0.014, 0.442, seatac airport, private entrance, late night, full size, any time\n",
      "      38, 0.014, 0.456, puget sound, blocks away, bathroom living, guest bathroom, living porch\n",
      "      40, 0.013, 0.469, lake union, woodland park, 10 15, green lake, burke gilman\n",
      "      36, 0.013, 0.482, let me, me know, convention center, during stay, so if\n",
      "      49, 0.012, 0.494, flat screen, tv all, screen tv, available guests, morning coffee\n",
      "       0, 0.011, 0.505, me know, let me, if need, would like, any time\n",
      "      13, 0.010, 0.515, back yard, blocks away, spacious back, library cd, cd collection\n",
      "      16, 0.009, 0.524, brand new, if need, 2nd floor, feel free, master suite\n",
      "      18, 0.008, 0.532, small fan, rooms that, that share, closet hangers, please keep\n",
      "      44, 0.008, 0.540, three rooms, me know, let me, please let, know if\n",
      "      20, 0.008, 0.548, mini refrigerator, coffee maker, does not, other bathroom, screen tv\n",
      "      34, 0.007, 0.555, public transportation, less than, one bus, walking distance, kitchen living\n",
      "      25, 0.007, 0.562, their own, coffee maker, please note, note that, does not\n",
      "      23, 0.006, 0.569, blocks away, 20 minutes, also available, within walking, minutes downtown\n",
      "      14, 0.006, 0.574, bamboo flooring, main floor, guests enjoy, street parking, coffee tea\n",
      "      27, 0.006, 0.580, capitol hill, public transportation, all guests, staying us, minute walk\n",
      "      12, 0.005, 0.586, lake union, living area, walking distance, kitchen living, bathroom kitchen\n",
      "      37, 0.005, 0.591, kelly belly, fire pit, heart city, guests during, modern comforts\n",
      "      33, 0.005, 0.596, screen tv, first floor, flat screen, 15 minute, alki beach\n",
      "       6, 0.004, 0.600, deck view, view downtown, 3rd fl, eat bar, 11 am\n",
      "       3, 0.004, 0.604, hot tub, garden guesthouse, fully equipped, private garden, 15 min\n",
      "      35, 0.004, 0.608, cool summer, double closet, winter cool, fruit trees, apple orchard\n",
      "      11, 0.003, 0.611, minute walk, if desired, one block, bus lines, ballard locks\n",
      "       8, 0.003, 0.614, clean sheets, extra blankets, best part, part about, couldn closer\n",
      "      17, 0.002, 0.616, if she, minutes south, walking distance, within walking, high speed\n",
      "       4, 0.002, 0.618, full sized, walking distance, good fit, 10 years, free standing\n",
      "      24, 0.002, 0.620, seed milk, if need, one own, year round, bring own\n"
     ]
    }
   ],
   "source": [
    "nlp.get_topic_weights_prop_range(full_scraped_df, 'price', tf_W, tf_H, 50, 100)"
   ]
  },
  {
   "cell_type": "markdown",
   "metadata": {},
   "source": [
    "**What are the top topics for properties with price < 50?**"
   ]
  },
  {
   "cell_type": "code",
   "execution_count": 31,
   "metadata": {
    "collapsed": false
   },
   "outputs": [
    {
     "name": "stdout",
     "output_type": "stream",
     "text": [
      "n =  216\n",
      "   TOPIC,    WT, SUMWT, WORDS\n",
      "       8, 0.047, 0.047, clean sheets, extra blankets, best part, part about, couldn closer\n",
      "       1, 0.042, 0.089, instruction please, do not, parking spot, etc please, please do\n",
      "      18, 0.041, 0.130, small fan, rooms that, that share, closet hangers, please keep\n",
      "      16, 0.032, 0.162, brand new, if need, 2nd floor, feel free, master suite\n",
      "      20, 0.031, 0.193, mini refrigerator, coffee maker, does not, other bathroom, screen tv\n",
      "      44, 0.029, 0.221, three rooms, me know, let me, please let, know if\n",
      "      35, 0.027, 0.248, cool summer, double closet, winter cool, fruit trees, apple orchard\n",
      "      11, 0.027, 0.275, minute walk, if desired, one block, bus lines, ballard locks\n",
      "      24, 0.026, 0.300, seed milk, if need, one own, year round, bring own\n",
      "       3, 0.019, 0.319, hot tub, garden guesthouse, fully equipped, private garden, 15 min\n",
      "      17, 0.018, 0.338, if she, minutes south, walking distance, within walking, high speed\n",
      "      13, 0.018, 0.356, back yard, blocks away, spacious back, library cd, cd collection\n",
      "      34, 0.017, 0.373, public transportation, less than, one bus, walking distance, kitchen living\n",
      "      45, 0.016, 0.389, street parking, off street, main floor, washer dryer, minute walk\n",
      "      25, 0.016, 0.406, their own, coffee maker, please note, note that, does not\n",
      "      14, 0.015, 0.420, bamboo flooring, main floor, guests enjoy, street parking, coffee tea\n",
      "      48, 0.011, 0.432, main floor, private suite, five blocks, blocks greenlake, other adventures\n",
      "      39, 0.011, 0.442, light rail, blocks away, rail station, lake washington, minutes away\n",
      "       9, 0.011, 0.453, parking available, full kitchen, fully furnished, fully stocked, if looking\n",
      "      42, 0.009, 0.463, second floor, first floor, kitchenette bathroom, washer dryer, free use\n",
      "      32, 0.009, 0.472, shampoo conditioner, queen size, body wash, hair dryer, conditioner body\n",
      "      37, 0.009, 0.481, kelly belly, fire pit, heart city, guests during, modern comforts\n",
      "      47, 0.009, 0.490, capitol hill, full size, university washington, basement that, all amenities\n",
      "      43, 0.008, 0.497, min drive, lounge chairs, lincoln park, 15 minutes, westwood village\n",
      "      41, 0.007, 0.504, puget sound, views puget, discovery park, panoramic views, olympic mountain\n",
      "      29, 0.007, 0.511, queen anne, minute walk, 10 minute, anne neighborhood, upper queen\n",
      "      38, 0.006, 0.517, puget sound, blocks away, bathroom living, guest bathroom, living porch\n",
      "      21, 0.006, 0.524, memory foam, walking distance, foam mattress, coffee tea, within walking\n",
      "      46, 0.006, 0.530, minutes away, areas quiet, nearby areas, us if, 20 minutes\n",
      "      12, 0.006, 0.536, lake union, living area, walking distance, kitchen living, bathroom kitchen\n",
      "      22, 0.006, 0.542, seatac airport, private entrance, late night, full size, any time\n",
      "      31, 0.005, 0.547, walking distance, private bathroom, within walking, gilman trail, burke gilman\n",
      "      36, 0.005, 0.552, let me, me know, convention center, during stay, so if\n",
      "       4, 0.005, 0.557, full sized, walking distance, good fit, 10 years, free standing\n",
      "      26, 0.005, 0.562, living area, shared apartment, full sized, apartment building, guest use\n",
      "      40, 0.004, 0.566, lake union, woodland park, 10 15, green lake, burke gilman\n",
      "       2, 0.004, 0.570, feel free, guests rooms, street parking, master bathroom, guest rooms\n",
      "      49, 0.004, 0.574, flat screen, tv all, screen tv, available guests, morning coffee\n",
      "      15, 0.004, 0.578, do not, capitol hill, westlake station, volunteer park, so please\n",
      "       7, 0.003, 0.581, lots fun, feel free, arts district, easy access, if need\n",
      "      27, 0.003, 0.584, capitol hill, public transportation, all guests, staying us, minute walk\n",
      "      28, 0.003, 0.587, provided all, feel free, hot tub, that offer, serene setting\n",
      "      33, 0.003, 0.590, screen tv, first floor, flat screen, 15 minute, alki beach\n",
      "       5, 0.002, 0.592, shared bathrooms, get up, before booking, unusual want, steep ladder\n",
      "       6, 0.002, 0.594, deck view, view downtown, 3rd fl, eat bar, 11 am\n",
      "      10, 0.002, 0.596, easy access, shared bath, across hall, bath across, access downtown\n",
      "      19, 0.002, 0.598, try some, pick up, emp museum, puget sound, that include\n",
      "      23, 0.001, 0.600, blocks away, 20 minutes, also available, within walking, minutes downtown\n",
      "       0, 0.001, 0.601, me know, let me, if need, would like, any time\n",
      "      30, 0.000, 0.601, well equipped, hot plate, includes small, longer term, toast coffee\n"
     ]
    }
   ],
   "source": [
    "nlp.get_topic_weights_prop_range(full_scraped_df, 'price', tf_W, tf_H, 0, 50)"
   ]
  },
  {
   "cell_type": "markdown",
   "metadata": {
    "collapsed": true
   },
   "source": [
    "## NMF with tfidf"
   ]
  },
  {
   "cell_type": "code",
   "execution_count": 33,
   "metadata": {
    "collapsed": false
   },
   "outputs": [],
   "source": [
    "tfidf_NMF = TfidfVectorizer(stop_words=airbnb_stopwords, max_features=10000, ngram_range=(2,3), min_df=2)\n",
    "tfidf_NMF_matrix = tfidf_NMF.fit_transform(full_scraped_df.space)\n",
    "tfidf_NMF_vocab= np.array(tfidf_NMF.get_feature_names())"
   ]
  },
  {
   "cell_type": "code",
   "execution_count": 34,
   "metadata": {
    "collapsed": false
   },
   "outputs": [
    {
     "data": {
      "text/plain": [
       "NMF(alpha=0.0, beta=1, eta=0.1, init=None, l1_ratio=0.0, max_iter=200,\n",
       "  n_components=50, nls_max_iter=2000, random_state=None, shuffle=False,\n",
       "  solver='cd', sparseness=None, tol=0.0001, verbose=0)"
      ]
     },
     "execution_count": 34,
     "metadata": {},
     "output_type": "execute_result"
    }
   ],
   "source": [
    "nmf_tfidf = NMF(n_components=50)\n",
    "nmf_tfidf.fit(tfidf_NMF_matrix.toarray())"
   ]
  },
  {
   "cell_type": "code",
   "execution_count": 35,
   "metadata": {
    "collapsed": false
   },
   "outputs": [
    {
     "name": "stdout",
     "output_type": "stream",
     "text": [
      "RSS = 25.67\n"
     ]
    }
   ],
   "source": [
    "tfidf_W = nmf_tfidf.transform(tfidf_NMF_matrix.toarray())\n",
    "tfidf_H = nmf_tfidf.components_\n",
    "print 'RSS = %.2f' % nmf_tfidf.reconstruction_err_"
   ]
  },
  {
   "cell_type": "code",
   "execution_count": 36,
   "metadata": {
    "collapsed": false
   },
   "outputs": [],
   "source": [
    "tfidf_W = pd.DataFrame(tfidf_W,index=full_scraped_df.space)\n",
    "tfidf_H = pd.DataFrame(tfidf_H,columns=tfidf_NMF_vocab)"
   ]
  },
  {
   "cell_type": "markdown",
   "metadata": {},
   "source": [
    "#### Printing top words per topic"
   ]
  },
  {
   "cell_type": "code",
   "execution_count": 38,
   "metadata": {
    "collapsed": false,
    "scrolled": false
   },
   "outputs": [
    {
     "name": "stdout",
     "output_type": "stream",
     "text": [
      "Topic 0 : private bathroom, washer dryer, bathroom queen, private bathroom queen\n",
      "Topic 1 : that share bathrooms, mind also please, full bathrooms guest, bathrooms guest\n",
      "Topic 2 : instruction please, etc please do, please do not, parking spot\n",
      "Topic 3 : currently not, perfect spot, refrigerator dishwasher microwave, freeway supermarkets\n",
      "Topic 4 : easy access, shared bath, shared bath across, bath across\n",
      "Topic 5 : paint new, find availability, machine dedicate whole, machine dedicate\n",
      "Topic 6 : puget sound, olympic mountains, queen anne, views puget sound\n",
      "Topic 7 : booked first, right through, same hallway booked, upon entering\n",
      "Topic 8 : three rooms, may get, three rooms so, seek if\n",
      "Topic 9 : clean sheets, part about, best part about, best part\n",
      "Topic 10 : view downtown, deck view, 3rd fl, eat bar\n",
      "Topic 11 : off street, off street parking, street parking, street parking available\n",
      "Topic 12 : near convenient transportation, all comfort located, near convenient, comfort located outside\n",
      "Topic 13 : shampoo conditioner body, conditioner body, conditioner body wash, shampoo conditioner\n",
      "Topic 14 : ll see, wide range, unit under, clothing longer\n",
      "Topic 15 : mini fridge, mini fridge microwave, fridge microwave, coffee maker\n",
      "Topic 16 : cool summer, winter cool, winter cool summer, double closet\n",
      "Topic 17 : feel free, feel free ask, free ask, master bathroom\n",
      "Topic 18 : memory foam, memory foam mattress, foam mattress, new memory foam\n",
      "Topic 19 : capitol hill, international district, first hill, downtown capitol\n",
      "Topic 20 : natural light, lots natural light, lots natural, west facing\n",
      "Topic 21 : small fan, that mind please, please also turn, please also\n",
      "Topic 22 : en suite, stocked body wash, wash shampoo, stocked body\n",
      "Topic 23 : university washington, downtown university, downtown university washington, green lake\n",
      "Topic 24 : speed internet, high speed internet, high speed, cable tv\n",
      "Topic 25 : first floor, second floor, floor features, floor three\n",
      "Topic 26 : would like, me know, let me, let me know\n",
      "Topic 27 : bathroom kitchen, bathroom kitchen living, kitchen living, time town\n",
      "Topic 28 : queen size, new queen, new queen size, brand new\n",
      "Topic 29 : walking distance, within walking distance, within walking, stores within\n",
      "Topic 30 : flat screen, screen tv, flat screen tv, relaxing stay\n",
      "Topic 31 : front door, main level, cozy comfortable, clean cozy comfortable\n",
      "Topic 32 : key less, steps away, keurig coffee maker, keurig coffee\n",
      "Topic 33 : light rail, lake washington, easy access, view lake\n",
      "Topic 34 : queen sized, one two, suite bathroom, en suite bathroom\n",
      "Topic 35 : free street parking, free street, street parking, residential street\n",
      "Topic 36 : main floor, floor guests, bedrooms main, bedrooms main floor\n",
      "Topic 37 : full size, study desk, medium sized, sized 10\n",
      "Topic 38 : public transportation, blocks away, dresser desk, single family\n",
      "Topic 39 : own private, well lit, private full, private entrance\n",
      "Topic 40 : safety stay, commute town, easy commute, most easy\n",
      "Topic 41 : well maintained, kitchen well equipped, set up, cottage bungalow character\n",
      "Topic 42 : south center mall, south center, miles downtown, center mall\n",
      "Topic 43 : equipped kitchen, fully equipped, fully equipped kitchen, wireless internet access\n",
      "Topic 44 : full bath, lots street, lots street parking, top floor\n",
      "Topic 45 : morning coffee, available guests, well maintained, some most\n",
      "Topic 46 : blocks away, back yard, few blocks, few blocks away\n",
      "Topic 47 : located top, new carpet, townhome located, story townhome located\n",
      "Topic 48 : separate entrance, access separate, access separate entrance, check no\n",
      "Topic 49 : owner lives, light view, door lock, curtain privacy\n"
     ]
    }
   ],
   "source": [
    "for row in xrange(tfidf_H.shape[0]):\n",
    "    print \"Topic\", row, \":\", ', '.join(list(tfidf_H.iloc[row].sort_values(ascending=False).index[:4]))\n",
    "    #print (list(H.iloc[row].sort_values(ascending=False)[:10]))"
   ]
  },
  {
   "cell_type": "markdown",
   "metadata": {},
   "source": [
    "**What are the top topics for properties > 100?**"
   ]
  },
  {
   "cell_type": "code",
   "execution_count": 42,
   "metadata": {
    "collapsed": false
   },
   "outputs": [
    {
     "name": "stdout",
     "output_type": "stream",
     "text": [
      "n =  80\n",
      "   TOPIC,    WT, SUMWT, WORDS\n",
      "      10, 0.015, 0.015, view downtown, deck view, 3rd fl, eat bar\n",
      "       0, 0.014, 0.029, private bathroom, washer dryer, bathroom queen, private bathroom queen\n",
      "      39, 0.013, 0.042, own private, well lit, private full, private entrance\n",
      "      43, 0.012, 0.054, equipped kitchen, fully equipped, fully equipped kitchen, wireless internet access\n",
      "      35, 0.011, 0.065, free street parking, free street, street parking, residential street\n",
      "      17, 0.009, 0.074, feel free, feel free ask, free ask, master bathroom\n",
      "      25, 0.008, 0.082, first floor, second floor, floor features, floor three\n",
      "      36, 0.008, 0.090, main floor, floor guests, bedrooms main, bedrooms main floor\n",
      "      19, 0.007, 0.096, capitol hill, international district, first hill, downtown capitol\n",
      "      33, 0.007, 0.103, light rail, lake washington, easy access, view lake\n",
      "      30, 0.006, 0.109, flat screen, screen tv, flat screen tv, relaxing stay\n",
      "      20, 0.006, 0.115, natural light, lots natural light, lots natural, west facing\n",
      "      46, 0.006, 0.121, blocks away, back yard, few blocks, few blocks away\n",
      "      29, 0.006, 0.127, walking distance, within walking distance, within walking, stores within\n",
      "       6, 0.005, 0.132, puget sound, olympic mountains, queen anne, views puget sound\n",
      "      31, 0.005, 0.137, front door, main level, cozy comfortable, clean cozy comfortable\n",
      "      28, 0.005, 0.142, queen size, new queen, new queen size, brand new\n",
      "      32, 0.005, 0.147, key less, steps away, keurig coffee maker, keurig coffee\n",
      "      49, 0.004, 0.151, owner lives, light view, door lock, curtain privacy\n",
      "      34, 0.004, 0.155, queen sized, one two, suite bathroom, en suite bathroom\n",
      "      15, 0.004, 0.159, mini fridge, mini fridge microwave, fridge microwave, coffee maker\n",
      "      13, 0.004, 0.163, shampoo conditioner body, conditioner body, conditioner body wash, shampoo conditioner\n",
      "      37, 0.004, 0.166, full size, study desk, medium sized, sized 10\n",
      "      11, 0.003, 0.169, off street, off street parking, street parking, street parking available\n",
      "      38, 0.003, 0.172, public transportation, blocks away, dresser desk, single family\n",
      "      48, 0.003, 0.175, separate entrance, access separate, access separate entrance, check no\n",
      "      41, 0.003, 0.177, well maintained, kitchen well equipped, set up, cottage bungalow character\n",
      "      45, 0.002, 0.180, morning coffee, available guests, well maintained, some most\n",
      "      18, 0.002, 0.182, memory foam, memory foam mattress, foam mattress, new memory foam\n",
      "      44, 0.002, 0.184, full bath, lots street, lots street parking, top floor\n",
      "       7, 0.002, 0.186, booked first, right through, same hallway booked, upon entering\n",
      "      42, 0.002, 0.188, south center mall, south center, miles downtown, center mall\n",
      "      26, 0.002, 0.189, would like, me know, let me, let me know\n",
      "       4, 0.002, 0.191, easy access, shared bath, shared bath across, bath across\n",
      "       9, 0.002, 0.192, clean sheets, part about, best part about, best part\n",
      "      23, 0.002, 0.194, university washington, downtown university, downtown university washington, green lake\n",
      "       2, 0.001, 0.195, instruction please, etc please do, please do not, parking spot\n",
      "      24, 0.001, 0.197, speed internet, high speed internet, high speed, cable tv\n",
      "       5, 0.001, 0.198, paint new, find availability, machine dedicate whole, machine dedicate\n",
      "      27, 0.001, 0.199, bathroom kitchen, bathroom kitchen living, kitchen living, time town\n",
      "       3, 0.001, 0.200, currently not, perfect spot, refrigerator dishwasher microwave, freeway supermarkets\n",
      "      47, 0.001, 0.201, located top, new carpet, townhome located, story townhome located\n",
      "      22, 0.001, 0.202, en suite, stocked body wash, wash shampoo, stocked body\n",
      "      14, 0.001, 0.202, ll see, wide range, unit under, clothing longer\n",
      "      16, 0.001, 0.203, cool summer, winter cool, winter cool summer, double closet\n",
      "       8, 0.000, 0.203, three rooms, may get, three rooms so, seek if\n",
      "      21, 0.000, 0.203, small fan, that mind please, please also turn, please also\n",
      "      40, 0.000, 0.204, safety stay, commute town, easy commute, most easy\n",
      "      12, 0.000, 0.204, near convenient transportation, all comfort located, near convenient, comfort located outside\n",
      "       1, 0.000, 0.204, that share bathrooms, mind also please, full bathrooms guest, bathrooms guest\n"
     ]
    }
   ],
   "source": [
    "nlp.get_topic_weights_prop_range(full_scraped_df, 'price', tfidf_W, tfidf_H, 100, 9999, num_words=4)"
   ]
  },
  {
   "cell_type": "code",
   "execution_count": 43,
   "metadata": {
    "collapsed": false
   },
   "outputs": [
    {
     "name": "stdout",
     "output_type": "stream",
     "text": [
      "n =  467\n",
      "   TOPIC,    WT, SUMWT, WORDS\n",
      "      39, 0.012, 0.012, own private, well lit, private full, private entrance\n",
      "       4, 0.011, 0.023, easy access, shared bath, shared bath across, bath across\n",
      "       3, 0.008, 0.031, currently not, perfect spot, refrigerator dishwasher microwave, freeway supermarkets\n",
      "      33, 0.008, 0.039, light rail, lake washington, easy access, view lake\n",
      "      13, 0.007, 0.046, shampoo conditioner body, conditioner body, conditioner body wash, shampoo conditioner\n",
      "      18, 0.007, 0.053, memory foam, memory foam mattress, foam mattress, new memory foam\n",
      "       0, 0.007, 0.060, private bathroom, washer dryer, bathroom queen, private bathroom queen\n",
      "      46, 0.007, 0.067, blocks away, back yard, few blocks, few blocks away\n",
      "      35, 0.006, 0.073, free street parking, free street, street parking, residential street\n",
      "       2, 0.006, 0.080, instruction please, etc please do, please do not, parking spot\n",
      "      30, 0.006, 0.086, flat screen, screen tv, flat screen tv, relaxing stay\n",
      "      20, 0.006, 0.092, natural light, lots natural light, lots natural, west facing\n",
      "      15, 0.006, 0.098, mini fridge, mini fridge microwave, fridge microwave, coffee maker\n",
      "       6, 0.006, 0.104, puget sound, olympic mountains, queen anne, views puget sound\n",
      "      25, 0.006, 0.110, first floor, second floor, floor features, floor three\n",
      "      29, 0.005, 0.115, walking distance, within walking distance, within walking, stores within\n",
      "      14, 0.005, 0.120, ll see, wide range, unit under, clothing longer\n",
      "      44, 0.005, 0.126, full bath, lots street, lots street parking, top floor\n",
      "      19, 0.005, 0.131, capitol hill, international district, first hill, downtown capitol\n",
      "      36, 0.005, 0.136, main floor, floor guests, bedrooms main, bedrooms main floor\n",
      "      28, 0.005, 0.140, queen size, new queen, new queen size, brand new\n",
      "       1, 0.005, 0.145, that share bathrooms, mind also please, full bathrooms guest, bathrooms guest\n",
      "      43, 0.004, 0.149, equipped kitchen, fully equipped, fully equipped kitchen, wireless internet access\n",
      "      17, 0.004, 0.154, feel free, feel free ask, free ask, master bathroom\n",
      "      41, 0.004, 0.158, well maintained, kitchen well equipped, set up, cottage bungalow character\n",
      "      37, 0.004, 0.162, full size, study desk, medium sized, sized 10\n",
      "      31, 0.004, 0.166, front door, main level, cozy comfortable, clean cozy comfortable\n",
      "      24, 0.004, 0.171, speed internet, high speed internet, high speed, cable tv\n",
      "      26, 0.004, 0.175, would like, me know, let me, let me know\n",
      "      48, 0.003, 0.178, separate entrance, access separate, access separate entrance, check no\n",
      "      11, 0.003, 0.181, off street, off street parking, street parking, street parking available\n",
      "      34, 0.003, 0.185, queen sized, one two, suite bathroom, en suite bathroom\n",
      "      49, 0.003, 0.188, owner lives, light view, door lock, curtain privacy\n",
      "      38, 0.003, 0.191, public transportation, blocks away, dresser desk, single family\n",
      "      32, 0.003, 0.194, key less, steps away, keurig coffee maker, keurig coffee\n",
      "      27, 0.003, 0.197, bathroom kitchen, bathroom kitchen living, kitchen living, time town\n",
      "      45, 0.003, 0.199, morning coffee, available guests, well maintained, some most\n",
      "      22, 0.003, 0.202, en suite, stocked body wash, wash shampoo, stocked body\n",
      "       5, 0.003, 0.205, paint new, find availability, machine dedicate whole, machine dedicate\n",
      "      23, 0.002, 0.207, university washington, downtown university, downtown university washington, green lake\n",
      "      42, 0.002, 0.210, south center mall, south center, miles downtown, center mall\n",
      "      40, 0.002, 0.212, safety stay, commute town, easy commute, most easy\n",
      "       9, 0.002, 0.214, clean sheets, part about, best part about, best part\n",
      "      47, 0.001, 0.215, located top, new carpet, townhome located, story townhome located\n",
      "      16, 0.001, 0.216, cool summer, winter cool, winter cool summer, double closet\n",
      "       8, 0.001, 0.217, three rooms, may get, three rooms so, seek if\n",
      "      10, 0.001, 0.218, view downtown, deck view, 3rd fl, eat bar\n",
      "       7, 0.001, 0.219, booked first, right through, same hallway booked, upon entering\n",
      "      21, 0.001, 0.220, small fan, that mind please, please also turn, please also\n",
      "      12, 0.001, 0.220, near convenient transportation, all comfort located, near convenient, comfort located outside\n"
     ]
    }
   ],
   "source": [
    "nlp.get_topic_weights_prop_range(full_scraped_df, 'price', tfidf_W, tfidf_H, 50, 100, num_words=4)"
   ]
  },
  {
   "cell_type": "code",
   "execution_count": 44,
   "metadata": {
    "collapsed": false
   },
   "outputs": [
    {
     "name": "stdout",
     "output_type": "stream",
     "text": [
      "n =  216\n",
      "   TOPIC,    WT, SUMWT, WORDS\n",
      "       2, 0.016, 0.016, instruction please, etc please do, please do not, parking spot\n",
      "       9, 0.015, 0.031, clean sheets, part about, best part about, best part\n",
      "       7, 0.011, 0.042, booked first, right through, same hallway booked, upon entering\n",
      "      21, 0.011, 0.053, small fan, that mind please, please also turn, please also\n",
      "      36, 0.011, 0.064, main floor, floor guests, bedrooms main, bedrooms main floor\n",
      "       5, 0.011, 0.075, paint new, find availability, machine dedicate whole, machine dedicate\n",
      "       1, 0.009, 0.084, that share bathrooms, mind also please, full bathrooms guest, bathrooms guest\n",
      "      49, 0.009, 0.093, owner lives, light view, door lock, curtain privacy\n",
      "      16, 0.009, 0.102, cool summer, winter cool, winter cool summer, double closet\n",
      "      37, 0.008, 0.111, full size, study desk, medium sized, sized 10\n",
      "      29, 0.008, 0.118, walking distance, within walking distance, within walking, stores within\n",
      "      46, 0.007, 0.126, blocks away, back yard, few blocks, few blocks away\n",
      "      34, 0.007, 0.133, queen sized, one two, suite bathroom, en suite bathroom\n",
      "      28, 0.007, 0.140, queen size, new queen, new queen size, brand new\n",
      "      42, 0.007, 0.147, south center mall, south center, miles downtown, center mall\n",
      "       8, 0.007, 0.153, three rooms, may get, three rooms so, seek if\n",
      "      12, 0.006, 0.160, near convenient transportation, all comfort located, near convenient, comfort located outside\n",
      "      32, 0.006, 0.166, key less, steps away, keurig coffee maker, keurig coffee\n",
      "      33, 0.006, 0.172, light rail, lake washington, easy access, view lake\n",
      "      30, 0.006, 0.177, flat screen, screen tv, flat screen tv, relaxing stay\n",
      "      43, 0.006, 0.183, equipped kitchen, fully equipped, fully equipped kitchen, wireless internet access\n",
      "      44, 0.005, 0.189, full bath, lots street, lots street parking, top floor\n",
      "      18, 0.005, 0.193, memory foam, memory foam mattress, foam mattress, new memory foam\n",
      "      15, 0.005, 0.198, mini fridge, mini fridge microwave, fridge microwave, coffee maker\n",
      "      24, 0.004, 0.202, speed internet, high speed internet, high speed, cable tv\n",
      "      40, 0.004, 0.206, safety stay, commute town, easy commute, most easy\n",
      "       3, 0.004, 0.209, currently not, perfect spot, refrigerator dishwasher microwave, freeway supermarkets\n",
      "      35, 0.004, 0.213, free street parking, free street, street parking, residential street\n",
      "       6, 0.004, 0.216, puget sound, olympic mountains, queen anne, views puget sound\n",
      "      20, 0.003, 0.220, natural light, lots natural light, lots natural, west facing\n",
      "      39, 0.003, 0.223, own private, well lit, private full, private entrance\n",
      "       0, 0.003, 0.226, private bathroom, washer dryer, bathroom queen, private bathroom queen\n",
      "      45, 0.003, 0.229, morning coffee, available guests, well maintained, some most\n",
      "      19, 0.003, 0.232, capitol hill, international district, first hill, downtown capitol\n",
      "      25, 0.003, 0.234, first floor, second floor, floor features, floor three\n",
      "      41, 0.003, 0.237, well maintained, kitchen well equipped, set up, cottage bungalow character\n",
      "      31, 0.003, 0.240, front door, main level, cozy comfortable, clean cozy comfortable\n",
      "      17, 0.003, 0.242, feel free, feel free ask, free ask, master bathroom\n",
      "      11, 0.002, 0.245, off street, off street parking, street parking, street parking available\n",
      "      48, 0.002, 0.247, separate entrance, access separate, access separate entrance, check no\n",
      "      13, 0.002, 0.249, shampoo conditioner body, conditioner body, conditioner body wash, shampoo conditioner\n",
      "      23, 0.002, 0.250, university washington, downtown university, downtown university washington, green lake\n",
      "      22, 0.002, 0.252, en suite, stocked body wash, wash shampoo, stocked body\n",
      "      38, 0.002, 0.254, public transportation, blocks away, dresser desk, single family\n",
      "       4, 0.001, 0.255, easy access, shared bath, shared bath across, bath across\n",
      "      27, 0.001, 0.256, bathroom kitchen, bathroom kitchen living, kitchen living, time town\n",
      "      26, 0.001, 0.258, would like, me know, let me, let me know\n",
      "      47, 0.001, 0.259, located top, new carpet, townhome located, story townhome located\n",
      "      10, 0.000, 0.259, view downtown, deck view, 3rd fl, eat bar\n",
      "      14, 0.000, 0.259, ll see, wide range, unit under, clothing longer\n"
     ]
    }
   ],
   "source": [
    "nlp.get_topic_weights_prop_range(full_scraped_df, 'price', tfidf_W, tfidf_H, 0, 50, num_words=4)"
   ]
  },
  {
   "cell_type": "markdown",
   "metadata": {},
   "source": [
    "## Observations\n",
    "\n",
    "NMF topic modeling with TFIDF matrices reveal interesting traits about different property types. \n",
    "\n",
    "For properties priced > 100, the top 5 topics are:\n",
    "1. View\n",
    "2. Private bathroom\n",
    "3. Private Entrance\n",
    "4. Kitchen\n",
    "5. Parking\n",
    "\n",
    "For properties priced < 50, the top 5 topics are:\n",
    "1. Instructions\n",
    "2. Clean sheets\n",
    "3. Hallway\n",
    "4. Instructions\n",
    "5. Floor layout\n",
    "\n",
    "The data suggests that properties that offer views, private bathrooms, and private entrances are often priced higher.  This aligns with our intuition.\n",
    "\n",
    "\n",
    "## Next steps\n",
    "\n",
    "Include topics of interest as features in the regression model!"
   ]
  },
  {
   "cell_type": "code",
   "execution_count": null,
   "metadata": {
    "collapsed": true
   },
   "outputs": [],
   "source": []
  }
 ],
 "metadata": {
  "anaconda-cloud": {},
  "kernelspec": {
   "display_name": "Python [default]",
   "language": "python",
   "name": "python2"
  },
  "language_info": {
   "codemirror_mode": {
    "name": "ipython",
    "version": 2
   },
   "file_extension": ".py",
   "mimetype": "text/x-python",
   "name": "python",
   "nbconvert_exporter": "python",
   "pygments_lexer": "ipython2",
   "version": "2.7.12"
  }
 },
 "nbformat": 4,
 "nbformat_minor": 2
}
